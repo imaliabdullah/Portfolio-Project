{
 "cells": [
  {
   "cell_type": "markdown",
   "id": "bbf2c25e",
   "metadata": {
    "papermill": {
     "duration": 0.019529,
     "end_time": "2024-04-16T13:17:18.417769",
     "exception": false,
     "start_time": "2024-04-16T13:17:18.398240",
     "status": "completed"
    },
    "tags": []
   },
   "source": [
    "## CardioCare: Web-Based Heart Disease Prediction System"
   ]
  },
  {
   "cell_type": "markdown",
   "id": "6047f7c2",
   "metadata": {
    "papermill": {
     "duration": 0.017045,
     "end_time": "2024-04-16T13:17:18.453735",
     "exception": false,
     "start_time": "2024-04-16T13:17:18.436690",
     "status": "completed"
    },
    "tags": []
   },
   "source": [
    "### 1. Import Libraries and Dataset"
   ]
  },
  {
   "cell_type": "code",
   "execution_count": 1,
   "id": "24f3283c",
   "metadata": {
    "execution": {
     "iopub.execute_input": "2024-04-16T13:17:18.491250Z",
     "iopub.status.busy": "2024-04-16T13:17:18.490272Z",
     "iopub.status.idle": "2024-04-16T13:17:21.230129Z",
     "shell.execute_reply": "2024-04-16T13:17:21.228627Z"
    },
    "papermill": {
     "duration": 2.762188,
     "end_time": "2024-04-16T13:17:21.233245",
     "exception": false,
     "start_time": "2024-04-16T13:17:18.471057",
     "status": "completed"
    },
    "tags": []
   },
   "outputs": [],
   "source": [
    "import pandas as pd\n",
    "import numpy as np\n",
    "import matplotlib.pyplot as plt\n",
    "import seaborn as sns"
   ]
  },
  {
   "cell_type": "code",
   "execution_count": 2,
   "id": "39fc24a4",
   "metadata": {
    "execution": {
     "iopub.execute_input": "2024-04-16T13:17:21.271148Z",
     "iopub.status.busy": "2024-04-16T13:17:21.270646Z",
     "iopub.status.idle": "2024-04-16T13:17:21.312995Z",
     "shell.execute_reply": "2024-04-16T13:17:21.311834Z"
    },
    "papermill": {
     "duration": 0.063979,
     "end_time": "2024-04-16T13:17:21.315487",
     "exception": false,
     "start_time": "2024-04-16T13:17:21.251508",
     "status": "completed"
    },
    "tags": []
   },
   "outputs": [
    {
     "data": {
      "text/html": [
       "<div>\n",
       "<style scoped>\n",
       "    .dataframe tbody tr th:only-of-type {\n",
       "        vertical-align: middle;\n",
       "    }\n",
       "\n",
       "    .dataframe tbody tr th {\n",
       "        vertical-align: top;\n",
       "    }\n",
       "\n",
       "    .dataframe thead th {\n",
       "        text-align: right;\n",
       "    }\n",
       "</style>\n",
       "<table border=\"1\" class=\"dataframe\">\n",
       "  <thead>\n",
       "    <tr style=\"text-align: right;\">\n",
       "      <th></th>\n",
       "      <th>age</th>\n",
       "      <th>sex</th>\n",
       "      <th>cp</th>\n",
       "      <th>trestbps</th>\n",
       "      <th>chol</th>\n",
       "      <th>fbs</th>\n",
       "      <th>restecg</th>\n",
       "      <th>thalach</th>\n",
       "      <th>exang</th>\n",
       "      <th>oldpeak</th>\n",
       "      <th>slope</th>\n",
       "      <th>ca</th>\n",
       "      <th>thal</th>\n",
       "      <th>target</th>\n",
       "    </tr>\n",
       "  </thead>\n",
       "  <tbody>\n",
       "    <tr>\n",
       "      <th>0</th>\n",
       "      <td>52</td>\n",
       "      <td>1</td>\n",
       "      <td>0</td>\n",
       "      <td>125</td>\n",
       "      <td>212</td>\n",
       "      <td>0</td>\n",
       "      <td>1</td>\n",
       "      <td>168</td>\n",
       "      <td>0</td>\n",
       "      <td>1.0</td>\n",
       "      <td>2</td>\n",
       "      <td>2</td>\n",
       "      <td>3</td>\n",
       "      <td>0</td>\n",
       "    </tr>\n",
       "    <tr>\n",
       "      <th>1</th>\n",
       "      <td>53</td>\n",
       "      <td>1</td>\n",
       "      <td>0</td>\n",
       "      <td>140</td>\n",
       "      <td>203</td>\n",
       "      <td>1</td>\n",
       "      <td>0</td>\n",
       "      <td>155</td>\n",
       "      <td>1</td>\n",
       "      <td>3.1</td>\n",
       "      <td>0</td>\n",
       "      <td>0</td>\n",
       "      <td>3</td>\n",
       "      <td>0</td>\n",
       "    </tr>\n",
       "    <tr>\n",
       "      <th>2</th>\n",
       "      <td>70</td>\n",
       "      <td>1</td>\n",
       "      <td>0</td>\n",
       "      <td>145</td>\n",
       "      <td>174</td>\n",
       "      <td>0</td>\n",
       "      <td>1</td>\n",
       "      <td>125</td>\n",
       "      <td>1</td>\n",
       "      <td>2.6</td>\n",
       "      <td>0</td>\n",
       "      <td>0</td>\n",
       "      <td>3</td>\n",
       "      <td>0</td>\n",
       "    </tr>\n",
       "    <tr>\n",
       "      <th>3</th>\n",
       "      <td>61</td>\n",
       "      <td>1</td>\n",
       "      <td>0</td>\n",
       "      <td>148</td>\n",
       "      <td>203</td>\n",
       "      <td>0</td>\n",
       "      <td>1</td>\n",
       "      <td>161</td>\n",
       "      <td>0</td>\n",
       "      <td>0.0</td>\n",
       "      <td>2</td>\n",
       "      <td>1</td>\n",
       "      <td>3</td>\n",
       "      <td>0</td>\n",
       "    </tr>\n",
       "    <tr>\n",
       "      <th>4</th>\n",
       "      <td>62</td>\n",
       "      <td>0</td>\n",
       "      <td>0</td>\n",
       "      <td>138</td>\n",
       "      <td>294</td>\n",
       "      <td>1</td>\n",
       "      <td>1</td>\n",
       "      <td>106</td>\n",
       "      <td>0</td>\n",
       "      <td>1.9</td>\n",
       "      <td>1</td>\n",
       "      <td>3</td>\n",
       "      <td>2</td>\n",
       "      <td>0</td>\n",
       "    </tr>\n",
       "  </tbody>\n",
       "</table>\n",
       "</div>"
      ],
      "text/plain": [
       "   age  sex  cp  trestbps  chol  fbs  restecg  thalach  exang  oldpeak  slope  \\\n",
       "0   52    1   0       125   212    0        1      168      0      1.0      2   \n",
       "1   53    1   0       140   203    1        0      155      1      3.1      0   \n",
       "2   70    1   0       145   174    0        1      125      1      2.6      0   \n",
       "3   61    1   0       148   203    0        1      161      0      0.0      2   \n",
       "4   62    0   0       138   294    1        1      106      0      1.9      1   \n",
       "\n",
       "   ca  thal  target  \n",
       "0   2     3       0  \n",
       "1   0     3       0  \n",
       "2   0     3       0  \n",
       "3   1     3       0  \n",
       "4   3     2       0  "
      ]
     },
     "execution_count": 2,
     "metadata": {},
     "output_type": "execute_result"
    }
   ],
   "source": [
    "df = pd.read_csv(\"assets/heart.csv\")\n",
    "df.head()"
   ]
  },
  {
   "cell_type": "markdown",
   "id": "2bd0fbc7",
   "metadata": {
    "papermill": {
     "duration": 0.017735,
     "end_time": "2024-04-16T13:17:21.352523",
     "exception": false,
     "start_time": "2024-04-16T13:17:21.334788",
     "status": "completed"
    },
    "tags": []
   },
   "source": [
    "### 2. About the Dataset\n",
    "\n",
    "age:\t\t\tage <br>\n",
    "sex:\t\t\t1: male, 0: female <br>\n",
    "cp:\t\t\t    chest pain type, 1: typical angina, 2: atypical angina, 3: non-anginal pain, 4: asymptomatic <br>\n",
    "trestbps:\t\tresting blood pressure <br>\n",
    "chol:\t\t\tserum cholestoral in mg/dl <br>\n",
    "fbs:\t\t\tfasting blood sugar > 120 mg/dl <br>\n",
    "restecg:\t\tresting electrocardiographic results (values 0,1,2) <br>\n",
    "thalach:\t\tmaximum heart rate achieved <br>\n",
    "exang:\t\t\texercise induced angina <br>\n",
    "oldpeak:\t\toldpeak = ST depression induced by exercise relative to rest <br>\n",
    "slope:\t\t\tthe slope of the peak exercise ST segment <br>\n",
    "ca:\t\t\t    number of major vessels (0-3) colored by flourosopy <br>\n",
    "thal:\t\t\tthal: 3 = normal; 6 = fixed defect; 7 = reversable defect <br>"
   ]
  },
  {
   "cell_type": "markdown",
   "id": "eff4490d",
   "metadata": {
    "papermill": {
     "duration": 0.017852,
     "end_time": "2024-04-16T13:17:21.388217",
     "exception": false,
     "start_time": "2024-04-16T13:17:21.370365",
     "status": "completed"
    },
    "tags": []
   },
   "source": [
    "### 3. Understanding the Data"
   ]
  },
  {
   "cell_type": "code",
   "execution_count": 3,
   "id": "84653f0e",
   "metadata": {
    "execution": {
     "iopub.execute_input": "2024-04-16T13:17:21.428913Z",
     "iopub.status.busy": "2024-04-16T13:17:21.427485Z",
     "iopub.status.idle": "2024-04-16T13:17:21.458446Z",
     "shell.execute_reply": "2024-04-16T13:17:21.456650Z"
    },
    "papermill": {
     "duration": 0.054916,
     "end_time": "2024-04-16T13:17:21.461305",
     "exception": false,
     "start_time": "2024-04-16T13:17:21.406389",
     "status": "completed"
    },
    "tags": []
   },
   "outputs": [
    {
     "name": "stdout",
     "output_type": "stream",
     "text": [
      "<class 'pandas.core.frame.DataFrame'>\n",
      "RangeIndex: 1025 entries, 0 to 1024\n",
      "Data columns (total 14 columns):\n",
      " #   Column    Non-Null Count  Dtype  \n",
      "---  ------    --------------  -----  \n",
      " 0   age       1025 non-null   int64  \n",
      " 1   sex       1025 non-null   int64  \n",
      " 2   cp        1025 non-null   int64  \n",
      " 3   trestbps  1025 non-null   int64  \n",
      " 4   chol      1025 non-null   int64  \n",
      " 5   fbs       1025 non-null   int64  \n",
      " 6   restecg   1025 non-null   int64  \n",
      " 7   thalach   1025 non-null   int64  \n",
      " 8   exang     1025 non-null   int64  \n",
      " 9   oldpeak   1025 non-null   float64\n",
      " 10  slope     1025 non-null   int64  \n",
      " 11  ca        1025 non-null   int64  \n",
      " 12  thal      1025 non-null   int64  \n",
      " 13  target    1025 non-null   int64  \n",
      "dtypes: float64(1), int64(13)\n",
      "memory usage: 112.2 KB\n"
     ]
    }
   ],
   "source": [
    "df.info()"
   ]
  },
  {
   "cell_type": "markdown",
   "id": "10bf856d",
   "metadata": {
    "papermill": {
     "duration": 0.017674,
     "end_time": "2024-04-16T13:17:21.497848",
     "exception": false,
     "start_time": "2024-04-16T13:17:21.480174",
     "status": "completed"
    },
    "tags": []
   },
   "source": [
    "#### 3.1 Checking missing values"
   ]
  },
  {
   "cell_type": "code",
   "execution_count": 4,
   "id": "bb7d9fc6",
   "metadata": {
    "execution": {
     "iopub.execute_input": "2024-04-16T13:17:21.535526Z",
     "iopub.status.busy": "2024-04-16T13:17:21.535092Z",
     "iopub.status.idle": "2024-04-16T13:17:21.544833Z",
     "shell.execute_reply": "2024-04-16T13:17:21.543595Z"
    },
    "papermill": {
     "duration": 0.032335,
     "end_time": "2024-04-16T13:17:21.548127",
     "exception": false,
     "start_time": "2024-04-16T13:17:21.515792",
     "status": "completed"
    },
    "tags": []
   },
   "outputs": [
    {
     "data": {
      "text/plain": [
       "age         0\n",
       "sex         0\n",
       "cp          0\n",
       "trestbps    0\n",
       "chol        0\n",
       "fbs         0\n",
       "restecg     0\n",
       "thalach     0\n",
       "exang       0\n",
       "oldpeak     0\n",
       "slope       0\n",
       "ca          0\n",
       "thal        0\n",
       "target      0\n",
       "dtype: int64"
      ]
     },
     "execution_count": 4,
     "metadata": {},
     "output_type": "execute_result"
    }
   ],
   "source": [
    "df.isnull().sum()"
   ]
  },
  {
   "cell_type": "markdown",
   "id": "d8f30b46",
   "metadata": {
    "papermill": {
     "duration": 0.018452,
     "end_time": "2024-04-16T13:17:21.585673",
     "exception": false,
     "start_time": "2024-04-16T13:17:21.567221",
     "status": "completed"
    },
    "tags": []
   },
   "source": [
    "Well!!! There is no missing value in this dataset."
   ]
  },
  {
   "cell_type": "markdown",
   "id": "90268c77",
   "metadata": {
    "papermill": {
     "duration": 0.114391,
     "end_time": "2024-04-16T13:17:21.718820",
     "exception": false,
     "start_time": "2024-04-16T13:17:21.604429",
     "status": "completed"
    },
    "tags": []
   },
   "source": [
    "#### 3.2 Dimension of the Dataset"
   ]
  },
  {
   "cell_type": "code",
   "execution_count": 5,
   "id": "bf788b2a",
   "metadata": {
    "execution": {
     "iopub.execute_input": "2024-04-16T13:17:21.760907Z",
     "iopub.status.busy": "2024-04-16T13:17:21.759731Z",
     "iopub.status.idle": "2024-04-16T13:17:21.767095Z",
     "shell.execute_reply": "2024-04-16T13:17:21.765465Z"
    },
    "papermill": {
     "duration": 0.032478,
     "end_time": "2024-04-16T13:17:21.770274",
     "exception": false,
     "start_time": "2024-04-16T13:17:21.737796",
     "status": "completed"
    },
    "tags": []
   },
   "outputs": [
    {
     "name": "stdout",
     "output_type": "stream",
     "text": [
      "Dimension of the Dataset: (1025, 14)\n"
     ]
    }
   ],
   "source": [
    "print(f\"Dimension of the Dataset: {df.shape}\")"
   ]
  },
  {
   "cell_type": "markdown",
   "id": "071a0531",
   "metadata": {
    "papermill": {
     "duration": 0.018616,
     "end_time": "2024-04-16T13:17:21.810189",
     "exception": false,
     "start_time": "2024-04-16T13:17:21.791573",
     "status": "completed"
    },
    "tags": []
   },
   "source": [
    "This dataset consists of 1025 rows and 14 columns. All the columns contain numerical data, and the target variable is binary, meaning it has two possible values. Given this setup, we can conclude that machine learning classification methods would be suitable for predicting this dataset."
   ]
  },
  {
   "cell_type": "markdown",
   "id": "f4a51bf7",
   "metadata": {
    "papermill": {
     "duration": 0.019646,
     "end_time": "2024-04-16T13:17:21.848804",
     "exception": false,
     "start_time": "2024-04-16T13:17:21.829158",
     "status": "completed"
    },
    "tags": []
   },
   "source": [
    "#### 3.3 Statistical Summary (Current Status)"
   ]
  },
  {
   "cell_type": "code",
   "execution_count": 6,
   "id": "0434e53c",
   "metadata": {
    "execution": {
     "iopub.execute_input": "2024-04-16T13:17:21.894199Z",
     "iopub.status.busy": "2024-04-16T13:17:21.893741Z",
     "iopub.status.idle": "2024-04-16T13:17:21.941783Z",
     "shell.execute_reply": "2024-04-16T13:17:21.940444Z"
    },
    "papermill": {
     "duration": 0.075584,
     "end_time": "2024-04-16T13:17:21.944693",
     "exception": false,
     "start_time": "2024-04-16T13:17:21.869109",
     "status": "completed"
    },
    "tags": []
   },
   "outputs": [
    {
     "data": {
      "text/html": [
       "<div>\n",
       "<style scoped>\n",
       "    .dataframe tbody tr th:only-of-type {\n",
       "        vertical-align: middle;\n",
       "    }\n",
       "\n",
       "    .dataframe tbody tr th {\n",
       "        vertical-align: top;\n",
       "    }\n",
       "\n",
       "    .dataframe thead th {\n",
       "        text-align: right;\n",
       "    }\n",
       "</style>\n",
       "<table border=\"1\" class=\"dataframe\">\n",
       "  <thead>\n",
       "    <tr style=\"text-align: right;\">\n",
       "      <th></th>\n",
       "      <th>age</th>\n",
       "      <th>sex</th>\n",
       "      <th>cp</th>\n",
       "      <th>trestbps</th>\n",
       "      <th>chol</th>\n",
       "      <th>fbs</th>\n",
       "      <th>restecg</th>\n",
       "      <th>thalach</th>\n",
       "      <th>exang</th>\n",
       "      <th>oldpeak</th>\n",
       "      <th>slope</th>\n",
       "      <th>ca</th>\n",
       "      <th>thal</th>\n",
       "      <th>target</th>\n",
       "    </tr>\n",
       "  </thead>\n",
       "  <tbody>\n",
       "    <tr>\n",
       "      <th>count</th>\n",
       "      <td>1025.000000</td>\n",
       "      <td>1025.000000</td>\n",
       "      <td>1025.000000</td>\n",
       "      <td>1025.000000</td>\n",
       "      <td>1025.00000</td>\n",
       "      <td>1025.000000</td>\n",
       "      <td>1025.000000</td>\n",
       "      <td>1025.000000</td>\n",
       "      <td>1025.000000</td>\n",
       "      <td>1025.000000</td>\n",
       "      <td>1025.000000</td>\n",
       "      <td>1025.000000</td>\n",
       "      <td>1025.000000</td>\n",
       "      <td>1025.000000</td>\n",
       "    </tr>\n",
       "    <tr>\n",
       "      <th>mean</th>\n",
       "      <td>54.434146</td>\n",
       "      <td>0.695610</td>\n",
       "      <td>0.942439</td>\n",
       "      <td>131.611707</td>\n",
       "      <td>246.00000</td>\n",
       "      <td>0.149268</td>\n",
       "      <td>0.529756</td>\n",
       "      <td>149.114146</td>\n",
       "      <td>0.336585</td>\n",
       "      <td>1.071512</td>\n",
       "      <td>1.385366</td>\n",
       "      <td>0.754146</td>\n",
       "      <td>2.323902</td>\n",
       "      <td>0.513171</td>\n",
       "    </tr>\n",
       "    <tr>\n",
       "      <th>std</th>\n",
       "      <td>9.072290</td>\n",
       "      <td>0.460373</td>\n",
       "      <td>1.029641</td>\n",
       "      <td>17.516718</td>\n",
       "      <td>51.59251</td>\n",
       "      <td>0.356527</td>\n",
       "      <td>0.527878</td>\n",
       "      <td>23.005724</td>\n",
       "      <td>0.472772</td>\n",
       "      <td>1.175053</td>\n",
       "      <td>0.617755</td>\n",
       "      <td>1.030798</td>\n",
       "      <td>0.620660</td>\n",
       "      <td>0.500070</td>\n",
       "    </tr>\n",
       "    <tr>\n",
       "      <th>min</th>\n",
       "      <td>29.000000</td>\n",
       "      <td>0.000000</td>\n",
       "      <td>0.000000</td>\n",
       "      <td>94.000000</td>\n",
       "      <td>126.00000</td>\n",
       "      <td>0.000000</td>\n",
       "      <td>0.000000</td>\n",
       "      <td>71.000000</td>\n",
       "      <td>0.000000</td>\n",
       "      <td>0.000000</td>\n",
       "      <td>0.000000</td>\n",
       "      <td>0.000000</td>\n",
       "      <td>0.000000</td>\n",
       "      <td>0.000000</td>\n",
       "    </tr>\n",
       "    <tr>\n",
       "      <th>25%</th>\n",
       "      <td>48.000000</td>\n",
       "      <td>0.000000</td>\n",
       "      <td>0.000000</td>\n",
       "      <td>120.000000</td>\n",
       "      <td>211.00000</td>\n",
       "      <td>0.000000</td>\n",
       "      <td>0.000000</td>\n",
       "      <td>132.000000</td>\n",
       "      <td>0.000000</td>\n",
       "      <td>0.000000</td>\n",
       "      <td>1.000000</td>\n",
       "      <td>0.000000</td>\n",
       "      <td>2.000000</td>\n",
       "      <td>0.000000</td>\n",
       "    </tr>\n",
       "    <tr>\n",
       "      <th>50%</th>\n",
       "      <td>56.000000</td>\n",
       "      <td>1.000000</td>\n",
       "      <td>1.000000</td>\n",
       "      <td>130.000000</td>\n",
       "      <td>240.00000</td>\n",
       "      <td>0.000000</td>\n",
       "      <td>1.000000</td>\n",
       "      <td>152.000000</td>\n",
       "      <td>0.000000</td>\n",
       "      <td>0.800000</td>\n",
       "      <td>1.000000</td>\n",
       "      <td>0.000000</td>\n",
       "      <td>2.000000</td>\n",
       "      <td>1.000000</td>\n",
       "    </tr>\n",
       "    <tr>\n",
       "      <th>75%</th>\n",
       "      <td>61.000000</td>\n",
       "      <td>1.000000</td>\n",
       "      <td>2.000000</td>\n",
       "      <td>140.000000</td>\n",
       "      <td>275.00000</td>\n",
       "      <td>0.000000</td>\n",
       "      <td>1.000000</td>\n",
       "      <td>166.000000</td>\n",
       "      <td>1.000000</td>\n",
       "      <td>1.800000</td>\n",
       "      <td>2.000000</td>\n",
       "      <td>1.000000</td>\n",
       "      <td>3.000000</td>\n",
       "      <td>1.000000</td>\n",
       "    </tr>\n",
       "    <tr>\n",
       "      <th>max</th>\n",
       "      <td>77.000000</td>\n",
       "      <td>1.000000</td>\n",
       "      <td>3.000000</td>\n",
       "      <td>200.000000</td>\n",
       "      <td>564.00000</td>\n",
       "      <td>1.000000</td>\n",
       "      <td>2.000000</td>\n",
       "      <td>202.000000</td>\n",
       "      <td>1.000000</td>\n",
       "      <td>6.200000</td>\n",
       "      <td>2.000000</td>\n",
       "      <td>4.000000</td>\n",
       "      <td>3.000000</td>\n",
       "      <td>1.000000</td>\n",
       "    </tr>\n",
       "  </tbody>\n",
       "</table>\n",
       "</div>"
      ],
      "text/plain": [
       "               age          sex           cp     trestbps        chol  \\\n",
       "count  1025.000000  1025.000000  1025.000000  1025.000000  1025.00000   \n",
       "mean     54.434146     0.695610     0.942439   131.611707   246.00000   \n",
       "std       9.072290     0.460373     1.029641    17.516718    51.59251   \n",
       "min      29.000000     0.000000     0.000000    94.000000   126.00000   \n",
       "25%      48.000000     0.000000     0.000000   120.000000   211.00000   \n",
       "50%      56.000000     1.000000     1.000000   130.000000   240.00000   \n",
       "75%      61.000000     1.000000     2.000000   140.000000   275.00000   \n",
       "max      77.000000     1.000000     3.000000   200.000000   564.00000   \n",
       "\n",
       "               fbs      restecg      thalach        exang      oldpeak  \\\n",
       "count  1025.000000  1025.000000  1025.000000  1025.000000  1025.000000   \n",
       "mean      0.149268     0.529756   149.114146     0.336585     1.071512   \n",
       "std       0.356527     0.527878    23.005724     0.472772     1.175053   \n",
       "min       0.000000     0.000000    71.000000     0.000000     0.000000   \n",
       "25%       0.000000     0.000000   132.000000     0.000000     0.000000   \n",
       "50%       0.000000     1.000000   152.000000     0.000000     0.800000   \n",
       "75%       0.000000     1.000000   166.000000     1.000000     1.800000   \n",
       "max       1.000000     2.000000   202.000000     1.000000     6.200000   \n",
       "\n",
       "             slope           ca         thal       target  \n",
       "count  1025.000000  1025.000000  1025.000000  1025.000000  \n",
       "mean      1.385366     0.754146     2.323902     0.513171  \n",
       "std       0.617755     1.030798     0.620660     0.500070  \n",
       "min       0.000000     0.000000     0.000000     0.000000  \n",
       "25%       1.000000     0.000000     2.000000     0.000000  \n",
       "50%       1.000000     0.000000     2.000000     1.000000  \n",
       "75%       2.000000     1.000000     3.000000     1.000000  \n",
       "max       2.000000     4.000000     3.000000     1.000000  "
      ]
     },
     "execution_count": 6,
     "metadata": {},
     "output_type": "execute_result"
    }
   ],
   "source": [
    "df.describe()"
   ]
  },
  {
   "cell_type": "markdown",
   "id": "93c33362",
   "metadata": {
    "papermill": {
     "duration": 0.021515,
     "end_time": "2024-04-16T13:17:21.987651",
     "exception": false,
     "start_time": "2024-04-16T13:17:21.966136",
     "status": "completed"
    },
    "tags": []
   },
   "source": [
    "#### 3.4 Checking correlation between columns"
   ]
  },
  {
   "cell_type": "code",
   "execution_count": 7,
   "id": "61ebabd4",
   "metadata": {
    "execution": {
     "iopub.execute_input": "2024-04-16T13:17:22.033036Z",
     "iopub.status.busy": "2024-04-16T13:17:22.032617Z",
     "iopub.status.idle": "2024-04-16T13:17:22.045969Z",
     "shell.execute_reply": "2024-04-16T13:17:22.043935Z"
    },
    "papermill": {
     "duration": 0.040037,
     "end_time": "2024-04-16T13:17:22.049111",
     "exception": false,
     "start_time": "2024-04-16T13:17:22.009074",
     "status": "completed"
    },
    "tags": []
   },
   "outputs": [
    {
     "name": "stdout",
     "output_type": "stream",
     "text": [
      "target      1.000000\n",
      "oldpeak     0.438441\n",
      "exang       0.438029\n",
      "cp          0.434854\n",
      "thalach     0.422895\n",
      "ca          0.382085\n",
      "slope       0.345512\n",
      "thal        0.337838\n",
      "sex         0.279501\n",
      "age         0.229324\n",
      "trestbps    0.138772\n",
      "restecg     0.134468\n",
      "chol        0.099966\n",
      "fbs         0.041164\n",
      "Name: target, dtype: float64\n"
     ]
    }
   ],
   "source": [
    "print(df.corr()['target'].abs().sort_values(ascending=False))"
   ]
  },
  {
   "cell_type": "markdown",
   "id": "b9837314",
   "metadata": {
    "papermill": {
     "duration": 0.019155,
     "end_time": "2024-04-16T13:17:22.088792",
     "exception": false,
     "start_time": "2024-04-16T13:17:22.069637",
     "status": "completed"
    },
    "tags": []
   },
   "source": [
    "### 4. Exploratory Data Analysis (EDA)"
   ]
  },
  {
   "cell_type": "code",
   "execution_count": 8,
   "id": "88fd5e64",
   "metadata": {
    "execution": {
     "iopub.execute_input": "2024-04-16T13:17:22.131164Z",
     "iopub.status.busy": "2024-04-16T13:17:22.129718Z",
     "iopub.status.idle": "2024-04-16T13:17:22.138193Z",
     "shell.execute_reply": "2024-04-16T13:17:22.136930Z"
    },
    "papermill": {
     "duration": 0.032476,
     "end_time": "2024-04-16T13:17:22.140885",
     "exception": false,
     "start_time": "2024-04-16T13:17:22.108409",
     "status": "completed"
    },
    "tags": []
   },
   "outputs": [
    {
     "data": {
      "text/plain": [
       "array([0, 0, 0, ..., 0, 1, 0], dtype=int64)"
      ]
     },
     "execution_count": 8,
     "metadata": {},
     "output_type": "execute_result"
    }
   ],
   "source": [
    "df['target'].values"
   ]
  },
  {
   "cell_type": "markdown",
   "id": "e64c3fea",
   "metadata": {
    "papermill": {
     "duration": 0.019491,
     "end_time": "2024-04-16T13:17:22.180460",
     "exception": false,
     "start_time": "2024-04-16T13:17:22.160969",
     "status": "completed"
    },
    "tags": []
   },
   "source": [
    "#### 4.1 Checking the distribution of Target Variable"
   ]
  },
  {
   "cell_type": "code",
   "execution_count": 11,
   "id": "f493782b",
   "metadata": {
    "execution": {
     "iopub.execute_input": "2024-04-16T13:17:22.223470Z",
     "iopub.status.busy": "2024-04-16T13:17:22.223052Z",
     "iopub.status.idle": "2024-04-16T13:17:22.603092Z",
     "shell.execute_reply": "2024-04-16T13:17:22.602104Z"
    },
    "papermill": {
     "duration": 0.405782,
     "end_time": "2024-04-16T13:17:22.606497",
     "exception": false,
     "start_time": "2024-04-16T13:17:22.200715",
     "status": "completed"
    },
    "tags": []
   },
   "outputs": [
    {
     "data": {
      "image/png": "[encoded data removed]",
      "text/plain": [
       "<Figure size 800x600 with 1 Axes>"
      ]
     },
     "metadata": {},
     "output_type": "display_data"
    },
    {
     "name": "stdout",
     "output_type": "stream",
     "text": [
      "target\n",
      "1    526\n",
      "0    499\n",
      "Name: count, dtype: int64\n"
     ]
    }
   ],
   "source": [
    "sns.set_style(\"whitegrid\")\n",
    "\n",
    "plt.figure(figsize=(8,6))\n",
    "sns.countplot(x='target', hue='target', data=df, palette='pastel')\n",
    "plt.title('Target Value Distribution')\n",
    "plt.show();\n",
    "\n",
    "target_temp = df['target'].value_counts()\n",
    "print(target_temp)"
   ]
  },
  {
   "cell_type": "code",
   "execution_count": 12,
   "id": "924c4a52",
   "metadata": {
    "execution": {
     "iopub.execute_input": "2024-04-16T13:17:22.649016Z",
     "iopub.status.busy": "2024-04-16T13:17:22.647773Z",
     "iopub.status.idle": "2024-04-16T13:17:22.655143Z",
     "shell.execute_reply": "2024-04-16T13:17:22.653720Z"
    },
    "papermill": {
     "duration": 0.031457,
     "end_time": "2024-04-16T13:17:22.657900",
     "exception": false,
     "start_time": "2024-04-16T13:17:22.626443",
     "status": "completed"
    },
    "tags": []
   },
   "outputs": [
    {
     "name": "stdout",
     "output_type": "stream",
     "text": [
      "Percentage of patience without heart problems: 48.68\n",
      "Percentage of patience with heart problems: 51.32\n"
     ]
    }
   ],
   "source": [
    "print(f\"Percentage of patience without heart problems: {str(round(target_temp[0]*100/1025, 2))}\")\n",
    "print(f\"Percentage of patience with heart problems: {str(round(target_temp[1]*100/1025, 2))}\")"
   ]
  },
  {
   "cell_type": "markdown",
   "id": "c412d8bb",
   "metadata": {
    "papermill": {
     "duration": 0.020025,
     "end_time": "2024-04-16T13:17:22.698217",
     "exception": false,
     "start_time": "2024-04-16T13:17:22.678192",
     "status": "completed"
    },
    "tags": []
   },
   "source": [
    "Next we'll analyse other features like 'sex', 'chest pain type (cp)', 'fasting blood sugar (fbs)', 'resting ecg', 'exercise induce angina (exang)', 'slope', 'number of major vessels (0-3) colored by flourosopy (ca)', and 'thal'"
   ]
  },
  {
   "cell_type": "markdown",
   "id": "3858702c",
   "metadata": {
    "papermill": {
     "duration": 0.023055,
     "end_time": "2024-04-16T13:17:22.742516",
     "exception": false,
     "start_time": "2024-04-16T13:17:22.719461",
     "status": "completed"
    },
    "tags": []
   },
   "source": [
    "#### 4.2 Analysing the \"Sex\" Feature"
   ]
  },
  {
   "cell_type": "code",
   "execution_count": 13,
   "id": "e73dd7c1",
   "metadata": {
    "execution": {
     "iopub.execute_input": "2024-04-16T13:17:22.787399Z",
     "iopub.status.busy": "2024-04-16T13:17:22.786919Z",
     "iopub.status.idle": "2024-04-16T13:17:22.796212Z",
     "shell.execute_reply": "2024-04-16T13:17:22.794644Z"
    },
    "papermill": {
     "duration": 0.034996,
     "end_time": "2024-04-16T13:17:22.798903",
     "exception": false,
     "start_time": "2024-04-16T13:17:22.763907",
     "status": "completed"
    },
    "tags": []
   },
   "outputs": [
    {
     "data": {
      "text/plain": [
       "array([1, 0], dtype=int64)"
      ]
     },
     "execution_count": 13,
     "metadata": {},
     "output_type": "execute_result"
    }
   ],
   "source": [
    "df['sex'].unique()"
   ]
  },
  {
   "cell_type": "markdown",
   "id": "0ec20c99",
   "metadata": {
    "papermill": {
     "duration": 0.019859,
     "end_time": "2024-04-16T13:17:22.839189",
     "exception": false,
     "start_time": "2024-04-16T13:17:22.819330",
     "status": "completed"
    },
    "tags": []
   },
   "source": [
    "We notice that the 'sex' feature has 2 unique feature. 1 is for male and 0 is for female."
   ]
  },
  {
   "cell_type": "code",
   "execution_count": 14,
   "id": "1c600b44",
   "metadata": {
    "execution": {
     "iopub.execute_input": "2024-04-16T13:17:22.881721Z",
     "iopub.status.busy": "2024-04-16T13:17:22.881254Z",
     "iopub.status.idle": "2024-04-16T13:17:23.203274Z",
     "shell.execute_reply": "2024-04-16T13:17:23.201713Z"
    },
    "papermill": {
     "duration": 0.346444,
     "end_time": "2024-04-16T13:17:23.206173",
     "exception": false,
     "start_time": "2024-04-16T13:17:22.859729",
     "status": "completed"
    },
    "tags": []
   },
   "outputs": [
    {
     "data": {
      "image/png": "[encoded data removed]",
      "text/plain": [
       "<Figure size 800x600 with 1 Axes>"
      ]
     },
     "metadata": {},
     "output_type": "display_data"
    }
   ],
   "source": [
    "sns.set_style(\"whitegrid\")\n",
    "\n",
    "plt.figure(figsize=(8,6))\n",
    "sns.barplot(x='sex', y='target', hue='sex', data=df, palette='pastel')\n",
    "plt.title('Relation b/w Sex and target')\n",
    "plt.show()"
   ]
  },
  {
   "cell_type": "markdown",
   "id": "3c766bd3",
   "metadata": {
    "papermill": {
     "duration": 0.020828,
     "end_time": "2024-04-16T13:17:23.247255",
     "exception": false,
     "start_time": "2024-04-16T13:17:23.226427",
     "status": "completed"
    },
    "tags": []
   },
   "source": [
    "As we see, that female are more likely to have heart problem than males.\n",
    "\n",
    "**Question Arises: Why it is that? Why women have more heart problem than female?**"
   ]
  },
  {
   "cell_type": "markdown",
   "id": "ecc4dd4e",
   "metadata": {
    "papermill": {
     "duration": 0.020243,
     "end_time": "2024-04-16T13:17:23.288427",
     "exception": false,
     "start_time": "2024-04-16T13:17:23.268184",
     "status": "completed"
    },
    "tags": []
   },
   "source": [
    "#### 4.3 Analysing the 'Chest Pain Type (cp)' feature"
   ]
  },
  {
   "cell_type": "code",
   "execution_count": 15,
   "id": "63c2a32d",
   "metadata": {
    "execution": {
     "iopub.execute_input": "2024-04-16T13:17:23.331948Z",
     "iopub.status.busy": "2024-04-16T13:17:23.330504Z",
     "iopub.status.idle": "2024-04-16T13:17:23.339419Z",
     "shell.execute_reply": "2024-04-16T13:17:23.338467Z"
    },
    "papermill": {
     "duration": 0.032718,
     "end_time": "2024-04-16T13:17:23.341949",
     "exception": false,
     "start_time": "2024-04-16T13:17:23.309231",
     "status": "completed"
    },
    "tags": []
   },
   "outputs": [
    {
     "data": {
      "text/plain": [
       "array([0, 1, 2, 3], dtype=int64)"
      ]
     },
     "execution_count": 15,
     "metadata": {},
     "output_type": "execute_result"
    }
   ],
   "source": [
    "df['cp'].unique()"
   ]
  },
  {
   "cell_type": "markdown",
   "id": "12ab55f1",
   "metadata": {
    "papermill": {
     "duration": 0.019745,
     "end_time": "2024-04-16T13:17:23.382575",
     "exception": false,
     "start_time": "2024-04-16T13:17:23.362830",
     "status": "completed"
    },
    "tags": []
   },
   "source": [
    "Chest pain type feature vary from 0 to 3. The number 0 to 3 explain 1 is for **typical angina**, 2 is for **atypical angina**, 3 is for **non-anginal pain**, and 4 is for **asymptomatic**. \n",
    "\n",
    "0. Typical Angina: This type of chest pain is considered typical because it presents with classic symptoms that are highly indicative of heart problems. Typically, it manifests as a feeling of pressure, squeezing, or tightness in the chest that may spread to the arms, neck, jaw, or back. It often occurs with exertion or emotional stress and is relieved by rest or nitroglycerin. People experiencing typical angina are at high risk of having underlying coronary artery disease.\n",
    "\n",
    "1. Atypical Angina: Atypical angina refers to chest pain that doesn't fit the classic description of typical angina. While it may still be related to heart issues, the symptoms are less specific and can vary widely among individuals. Atypical angina may present as discomfort or pain in the chest, but it might not be as severe or localized as typical angina. Additionally, it may not consistently respond to rest or nitroglycerin.\n",
    "\n",
    "2. Non-Anginal Pain: This category includes chest discomfort or pain that is not related to coronary artery disease or angina. It could be caused by various factors such as musculoskeletal issues, gastrointestinal problems, anxiety, or respiratory conditions. Non-anginal pain may mimic angina in some cases but is typically not associated with the same underlying heart issues.\n",
    "\n",
    "3. Asymptomatic: Asymptomatic means that there are no noticeable symptoms present. In the context of heart disease, it indicates that the individual is not experiencing any chest pain or related symptoms at the time of assessment. However, it's important to note that some people with heart disease may not experience noticeable symptoms, especially in the early stages or if they have other conditions masking the symptoms."
   ]
  },
  {
   "cell_type": "code",
   "execution_count": 16,
   "id": "83b6d331",
   "metadata": {
    "execution": {
     "iopub.execute_input": "2024-04-16T13:17:23.428274Z",
     "iopub.status.busy": "2024-04-16T13:17:23.427800Z",
     "iopub.status.idle": "2024-04-16T13:17:23.814926Z",
     "shell.execute_reply": "2024-04-16T13:17:23.813401Z"
    },
    "papermill": {
     "duration": 0.415216,
     "end_time": "2024-04-16T13:17:23.817807",
     "exception": false,
     "start_time": "2024-04-16T13:17:23.402591",
     "status": "completed"
    },
    "tags": []
   },
   "outputs": [
    {
     "data": {
      "image/png": "[encoded data removed]",
      "text/plain": [
       "<Figure size 800x600 with 1 Axes>"
      ]
     },
     "metadata": {},
     "output_type": "display_data"
    }
   ],
   "source": [
    "sns.set_style('whitegrid')\n",
    "\n",
    "plt.figure(figsize=(8,6))\n",
    "sns.barplot(x='cp', y='target', hue='cp', data=df, palette='pastel')\n",
    "plt.title('Relation b/w CP and Target')\n",
    "plt.show()"
   ]
  },
  {
   "cell_type": "markdown",
   "id": "2609abe6",
   "metadata": {
    "papermill": {
     "duration": 0.01982,
     "end_time": "2024-04-16T13:17:23.857796",
     "exception": false,
     "start_time": "2024-04-16T13:17:23.837976",
     "status": "completed"
    },
    "tags": []
   },
   "source": [
    "We notice, that chest pain of \"0\", i.e. the one with typical angine are much less likely to have heart problems."
   ]
  },
  {
   "cell_type": "markdown",
   "id": "10dd75b4",
   "metadata": {
    "papermill": {
     "duration": 0.019934,
     "end_time": "2024-04-16T13:17:23.899072",
     "exception": false,
     "start_time": "2024-04-16T13:17:23.879138",
     "status": "completed"
    },
    "tags": []
   },
   "source": [
    "#### 4.4 Analysing the Fasting Blood Sugar (FBS) feature"
   ]
  },
  {
   "cell_type": "code",
   "execution_count": 17,
   "id": "b9d81718",
   "metadata": {
    "execution": {
     "iopub.execute_input": "2024-04-16T13:17:23.941235Z",
     "iopub.status.busy": "2024-04-16T13:17:23.940864Z",
     "iopub.status.idle": "2024-04-16T13:17:23.948790Z",
     "shell.execute_reply": "2024-04-16T13:17:23.947373Z"
    },
    "papermill": {
     "duration": 0.031879,
     "end_time": "2024-04-16T13:17:23.951037",
     "exception": false,
     "start_time": "2024-04-16T13:17:23.919158",
     "status": "completed"
    },
    "tags": []
   },
   "outputs": [
    {
     "data": {
      "text/plain": [
       "array([0, 1], dtype=int64)"
      ]
     },
     "execution_count": 17,
     "metadata": {},
     "output_type": "execute_result"
    }
   ],
   "source": [
    "df['fbs'].unique()"
   ]
  },
  {
   "cell_type": "code",
   "execution_count": 18,
   "id": "94020a30",
   "metadata": {
    "execution": {
     "iopub.execute_input": "2024-04-16T13:17:23.994450Z",
     "iopub.status.busy": "2024-04-16T13:17:23.992943Z",
     "iopub.status.idle": "2024-04-16T13:17:24.005957Z",
     "shell.execute_reply": "2024-04-16T13:17:24.004699Z"
    },
    "papermill": {
     "duration": 0.037404,
     "end_time": "2024-04-16T13:17:24.008656",
     "exception": false,
     "start_time": "2024-04-16T13:17:23.971252",
     "status": "completed"
    },
    "tags": []
   },
   "outputs": [
    {
     "data": {
      "text/plain": [
       "count    1025.000000\n",
       "mean        0.149268\n",
       "std         0.356527\n",
       "min         0.000000\n",
       "25%         0.000000\n",
       "50%         0.000000\n",
       "75%         0.000000\n",
       "max         1.000000\n",
       "Name: fbs, dtype: float64"
      ]
     },
     "execution_count": 18,
     "metadata": {},
     "output_type": "execute_result"
    }
   ],
   "source": [
    "df['fbs'].describe()"
   ]
  },
  {
   "cell_type": "markdown",
   "id": "22947e36",
   "metadata": {
    "papermill": {
     "duration": 0.021282,
     "end_time": "2024-04-16T13:17:24.052531",
     "exception": false,
     "start_time": "2024-04-16T13:17:24.031249",
     "status": "completed"
    },
    "tags": []
   },
   "source": [
    "- Fasting Blood Sugar > 120 mg/dl = 1\n",
    "- Fasting Blood Sugar < 120 mg/dl = 0"
   ]
  },
  {
   "cell_type": "code",
   "execution_count": 20,
   "id": "588d7064",
   "metadata": {
    "execution": {
     "iopub.execute_input": "2024-04-16T13:17:24.100041Z",
     "iopub.status.busy": "2024-04-16T13:17:24.099385Z",
     "iopub.status.idle": "2024-04-16T13:17:24.400220Z",
     "shell.execute_reply": "2024-04-16T13:17:24.399108Z"
    },
    "papermill": {
     "duration": 0.329518,
     "end_time": "2024-04-16T13:17:24.403345",
     "exception": false,
     "start_time": "2024-04-16T13:17:24.073827",
     "status": "completed"
    },
    "tags": []
   },
   "outputs": [
    {
     "data": {
      "image/png": "[encoded data removed]",
      "text/plain": [
       "<Figure size 800x600 with 1 Axes>"
      ]
     },
     "metadata": {},
     "output_type": "display_data"
    }
   ],
   "source": [
    "sns.set_style('whitegrid')\n",
    "\n",
    "plt.figure(figsize=(8,6))\n",
    "sns.barplot(x='fbs', y='target', hue='fbs', data=df, palette='pastel')\n",
    "plt.title('Relation of b/w FBS and Target')\n",
    "plt.show()"
   ]
  },
  {
   "cell_type": "markdown",
   "id": "048a25c3",
   "metadata": {
    "papermill": {
     "duration": 0.021675,
     "end_time": "2024-04-16T13:17:24.445873",
     "exception": false,
     "start_time": "2024-04-16T13:17:24.424198",
     "status": "completed"
    },
    "tags": []
   },
   "source": [
    "Nothing Extraordinary Here!!!"
   ]
  },
  {
   "cell_type": "markdown",
   "id": "6d2a1763",
   "metadata": {
    "papermill": {
     "duration": 0.02038,
     "end_time": "2024-04-16T13:17:24.486919",
     "exception": false,
     "start_time": "2024-04-16T13:17:24.466539",
     "status": "completed"
    },
    "tags": []
   },
   "source": [
    "#### 4.5 Analysing the Resting ECG feature"
   ]
  },
  {
   "cell_type": "code",
   "execution_count": 21,
   "id": "67896ca6",
   "metadata": {
    "execution": {
     "iopub.execute_input": "2024-04-16T13:17:24.530735Z",
     "iopub.status.busy": "2024-04-16T13:17:24.530254Z",
     "iopub.status.idle": "2024-04-16T13:17:24.538265Z",
     "shell.execute_reply": "2024-04-16T13:17:24.537096Z"
    },
    "papermill": {
     "duration": 0.032901,
     "end_time": "2024-04-16T13:17:24.540578",
     "exception": false,
     "start_time": "2024-04-16T13:17:24.507677",
     "status": "completed"
    },
    "tags": []
   },
   "outputs": [
    {
     "data": {
      "text/plain": [
       "array([1, 0, 2], dtype=int64)"
      ]
     },
     "execution_count": 21,
     "metadata": {},
     "output_type": "execute_result"
    }
   ],
   "source": [
    "df['restecg'].unique()"
   ]
  },
  {
   "cell_type": "code",
   "execution_count": 22,
   "id": "79716207",
   "metadata": {
    "execution": {
     "iopub.execute_input": "2024-04-16T13:17:24.584969Z",
     "iopub.status.busy": "2024-04-16T13:17:24.584581Z",
     "iopub.status.idle": "2024-04-16T13:17:24.950618Z",
     "shell.execute_reply": "2024-04-16T13:17:24.949156Z"
    },
    "papermill": {
     "duration": 0.391053,
     "end_time": "2024-04-16T13:17:24.953261",
     "exception": false,
     "start_time": "2024-04-16T13:17:24.562208",
     "status": "completed"
    },
    "tags": []
   },
   "outputs": [
    {
     "data": {
      "image/png": "[encoded data removed]",
      "text/plain": [
       "<Figure size 800x600 with 1 Axes>"
      ]
     },
     "metadata": {},
     "output_type": "display_data"
    }
   ],
   "source": [
    "sns.set_style('whitegrid')\n",
    "\n",
    "plt.figure(figsize=(8,6))\n",
    "sns.barplot(x='restecg', y='target', hue='restecg', data=df, palette='pastel')\n",
    "plt.title('Relation b/w RestECG and Target')\n",
    "plt.show()"
   ]
  },
  {
   "cell_type": "markdown",
   "id": "6f31d1fb",
   "metadata": {
    "papermill": {
     "duration": 0.021094,
     "end_time": "2024-04-16T13:17:24.995662",
     "exception": false,
     "start_time": "2024-04-16T13:17:24.974568",
     "status": "completed"
    },
    "tags": []
   },
   "source": [
    "We realize that people with restecg '1' and '0' are much more likely to have a heart disease than with restecg '2'."
   ]
  },
  {
   "cell_type": "markdown",
   "id": "6d629555",
   "metadata": {
    "papermill": {
     "duration": 0.021452,
     "end_time": "2024-04-16T13:17:25.038108",
     "exception": false,
     "start_time": "2024-04-16T13:17:25.016656",
     "status": "completed"
    },
    "tags": []
   },
   "source": [
    "#### 4.6 Analysing the 'exang' feature"
   ]
  },
  {
   "cell_type": "code",
   "execution_count": 23,
   "id": "296768f9",
   "metadata": {
    "execution": {
     "iopub.execute_input": "2024-04-16T13:17:25.083143Z",
     "iopub.status.busy": "2024-04-16T13:17:25.082332Z",
     "iopub.status.idle": "2024-04-16T13:17:25.092528Z",
     "shell.execute_reply": "2024-04-16T13:17:25.090896Z"
    },
    "papermill": {
     "duration": 0.036175,
     "end_time": "2024-04-16T13:17:25.095679",
     "exception": false,
     "start_time": "2024-04-16T13:17:25.059504",
     "status": "completed"
    },
    "tags": []
   },
   "outputs": [
    {
     "data": {
      "text/plain": [
       "array([0, 1], dtype=int64)"
      ]
     },
     "execution_count": 23,
     "metadata": {},
     "output_type": "execute_result"
    }
   ],
   "source": [
    "df['exang'].unique()"
   ]
  },
  {
   "cell_type": "code",
   "execution_count": 24,
   "id": "00a2bd2c",
   "metadata": {
    "execution": {
     "iopub.execute_input": "2024-04-16T13:17:25.153559Z",
     "iopub.status.busy": "2024-04-16T13:17:25.152442Z",
     "iopub.status.idle": "2024-04-16T13:17:25.477801Z",
     "shell.execute_reply": "2024-04-16T13:17:25.476118Z"
    },
    "papermill": {
     "duration": 0.358833,
     "end_time": "2024-04-16T13:17:25.481039",
     "exception": false,
     "start_time": "2024-04-16T13:17:25.122206",
     "status": "completed"
    },
    "tags": []
   },
   "outputs": [
    {
     "data": {
      "image/png": "[encoded data removed]",
      "text/plain": [
       "<Figure size 800x600 with 1 Axes>"
      ]
     },
     "metadata": {},
     "output_type": "display_data"
    }
   ],
   "source": [
    "sns.set_style('whitegrid')\n",
    "\n",
    "plt.figure(figsize=(8,6))\n",
    "sns.barplot(x='exang', y='target', hue='exang', data=df, palette='pastel')\n",
    "plt.title('Relation b/w exang and target')\n",
    "plt.show()"
   ]
  },
  {
   "cell_type": "markdown",
   "id": "7caade62",
   "metadata": {
    "papermill": {
     "duration": 0.021405,
     "end_time": "2024-04-16T13:17:25.525042",
     "exception": false,
     "start_time": "2024-04-16T13:17:25.503637",
     "status": "completed"
    },
    "tags": []
   },
   "source": [
    "exang: Exercise Induced Angina\n",
    "\n",
    "People with exang = 1 i.e. Exercise induced angina are much less likely to have heart problems."
   ]
  },
  {
   "cell_type": "markdown",
   "id": "1ac1b001",
   "metadata": {
    "papermill": {
     "duration": 0.024098,
     "end_time": "2024-04-16T13:17:25.572587",
     "exception": false,
     "start_time": "2024-04-16T13:17:25.548489",
     "status": "completed"
    },
    "tags": []
   },
   "source": [
    "#### 4.7 Analysing the Slope Feature"
   ]
  },
  {
   "cell_type": "code",
   "execution_count": 25,
   "id": "32953e17",
   "metadata": {
    "execution": {
     "iopub.execute_input": "2024-04-16T13:17:25.620843Z",
     "iopub.status.busy": "2024-04-16T13:17:25.620444Z",
     "iopub.status.idle": "2024-04-16T13:17:25.628478Z",
     "shell.execute_reply": "2024-04-16T13:17:25.627075Z"
    },
    "papermill": {
     "duration": 0.035036,
     "end_time": "2024-04-16T13:17:25.630933",
     "exception": false,
     "start_time": "2024-04-16T13:17:25.595897",
     "status": "completed"
    },
    "tags": []
   },
   "outputs": [
    {
     "data": {
      "text/plain": [
       "array([2, 0, 1], dtype=int64)"
      ]
     },
     "execution_count": 25,
     "metadata": {},
     "output_type": "execute_result"
    }
   ],
   "source": [
    "df['slope'].unique()"
   ]
  },
  {
   "cell_type": "code",
   "execution_count": 27,
   "id": "afcc566f",
   "metadata": {
    "execution": {
     "iopub.execute_input": "2024-04-16T13:17:25.678922Z",
     "iopub.status.busy": "2024-04-16T13:17:25.678541Z",
     "iopub.status.idle": "2024-04-16T13:17:26.075938Z",
     "shell.execute_reply": "2024-04-16T13:17:26.074434Z"
    },
    "papermill": {
     "duration": 0.424862,
     "end_time": "2024-04-16T13:17:26.078813",
     "exception": false,
     "start_time": "2024-04-16T13:17:25.653951",
     "status": "completed"
    },
    "tags": []
   },
   "outputs": [
    {
     "data": {
      "image/png": "[encoded data removed]",
      "text/plain": [
       "<Figure size 800x600 with 1 Axes>"
      ]
     },
     "metadata": {},
     "output_type": "display_data"
    }
   ],
   "source": [
    "sns.set_style('whitegrid')\n",
    "\n",
    "plt.figure(figsize=(8,6))\n",
    "sns.barplot(x='slope', y='target', hue='slope', data=df, palette='pastel')\n",
    "plt.title('Relation b/w Slope and Target')\n",
    "plt.show()"
   ]
  },
  {
   "cell_type": "markdown",
   "id": "49de1c88",
   "metadata": {
    "papermill": {
     "duration": 0.023426,
     "end_time": "2024-04-16T13:17:26.125809",
     "exception": false,
     "start_time": "2024-04-16T13:17:26.102383",
     "status": "completed"
    },
    "tags": []
   },
   "source": [
    "We observe that Slope '2' cause heart pain much more than Slope '0' and '1'."
   ]
  },
  {
   "cell_type": "markdown",
   "id": "d47f22db",
   "metadata": {
    "papermill": {
     "duration": 0.023201,
     "end_time": "2024-04-16T13:17:26.174436",
     "exception": false,
     "start_time": "2024-04-16T13:17:26.151235",
     "status": "completed"
    },
    "tags": []
   },
   "source": [
    "#### 4.8 Analysing the 'CA' Feature"
   ]
  },
  {
   "cell_type": "code",
   "execution_count": 28,
   "id": "85609316",
   "metadata": {
    "execution": {
     "iopub.execute_input": "2024-04-16T13:17:26.224895Z",
     "iopub.status.busy": "2024-04-16T13:17:26.224404Z",
     "iopub.status.idle": "2024-04-16T13:17:26.232486Z",
     "shell.execute_reply": "2024-04-16T13:17:26.231242Z"
    },
    "papermill": {
     "duration": 0.035336,
     "end_time": "2024-04-16T13:17:26.234925",
     "exception": false,
     "start_time": "2024-04-16T13:17:26.199589",
     "status": "completed"
    },
    "tags": []
   },
   "outputs": [
    {
     "data": {
      "text/plain": [
       "array([2, 0, 1, 3, 4], dtype=int64)"
      ]
     },
     "execution_count": 28,
     "metadata": {},
     "output_type": "execute_result"
    }
   ],
   "source": [
    "df['ca'].unique()"
   ]
  },
  {
   "cell_type": "markdown",
   "id": "3528b386",
   "metadata": {
    "papermill": {
     "duration": 0.02332,
     "end_time": "2024-04-16T13:17:26.283225",
     "exception": false,
     "start_time": "2024-04-16T13:17:26.259905",
     "status": "completed"
    },
    "tags": []
   },
   "source": [
    "ca: number of major vessels (0-3) colored by flouroscopy"
   ]
  },
  {
   "cell_type": "code",
   "execution_count": 29,
   "id": "d81cbe3b",
   "metadata": {
    "execution": {
     "iopub.execute_input": "2024-04-16T13:17:26.333204Z",
     "iopub.status.busy": "2024-04-16T13:17:26.332543Z",
     "iopub.status.idle": "2024-04-16T13:17:26.625602Z",
     "shell.execute_reply": "2024-04-16T13:17:26.624561Z"
    },
    "papermill": {
     "duration": 0.32041,
     "end_time": "2024-04-16T13:17:26.628106",
     "exception": false,
     "start_time": "2024-04-16T13:17:26.307696",
     "status": "completed"
    },
    "tags": []
   },
   "outputs": [
    {
     "data": {
      "image/png": "[encoded data removed]",
      "text/plain": [
       "<Figure size 800x600 with 1 Axes>"
      ]
     },
     "metadata": {},
     "output_type": "display_data"
    }
   ],
   "source": [
    "sns.set_style('whitegrid')\n",
    "\n",
    "plt.figure(figsize=(8,6))\n",
    "sns.countplot(x='ca', data=df, hue='ca', palette='pastel')\n",
    "plt.title('Distribution of Ca')\n",
    "plt.show()"
   ]
  },
  {
   "cell_type": "code",
   "execution_count": 31,
   "id": "2d34e3e9",
   "metadata": {
    "execution": {
     "iopub.execute_input": "2024-04-16T13:17:26.678588Z",
     "iopub.status.busy": "2024-04-16T13:17:26.677637Z",
     "iopub.status.idle": "2024-04-16T13:17:27.106771Z",
     "shell.execute_reply": "2024-04-16T13:17:27.105177Z"
    },
    "papermill": {
     "duration": 0.457001,
     "end_time": "2024-04-16T13:17:27.109749",
     "exception": false,
     "start_time": "2024-04-16T13:17:26.652748",
     "status": "completed"
    },
    "tags": []
   },
   "outputs": [
    {
     "data": {
      "image/png": "[encoded data removed]",
      "text/plain": [
       "<Figure size 800x600 with 1 Axes>"
      ]
     },
     "metadata": {},
     "output_type": "display_data"
    }
   ],
   "source": [
    "sns.set_style('whitegrid')\n",
    "\n",
    "plt.figure(figsize=(8,6))\n",
    "sns.barplot(x='ca', y='target', hue='ca', data=df, palette='pastel')\n",
    "plt.title('Relation b/w CA and Target')\n",
    "plt.show()"
   ]
  },
  {
   "cell_type": "markdown",
   "id": "c0998e4a",
   "metadata": {
    "papermill": {
     "duration": 0.025824,
     "end_time": "2024-04-16T13:17:27.159961",
     "exception": false,
     "start_time": "2024-04-16T13:17:27.134137",
     "status": "completed"
    },
    "tags": []
   },
   "source": [
    "ca=4 has astonishingly large number of heart patients."
   ]
  },
  {
   "cell_type": "markdown",
   "id": "d508ed0f",
   "metadata": {
    "papermill": {
     "duration": 0.023653,
     "end_time": "2024-04-16T13:17:27.209744",
     "exception": false,
     "start_time": "2024-04-16T13:17:27.186091",
     "status": "completed"
    },
    "tags": []
   },
   "source": [
    "#### 4.9 Analysing the 'thal' Feature"
   ]
  },
  {
   "cell_type": "code",
   "execution_count": 32,
   "id": "67a5c221",
   "metadata": {
    "execution": {
     "iopub.execute_input": "2024-04-16T13:17:27.260549Z",
     "iopub.status.busy": "2024-04-16T13:17:27.259431Z",
     "iopub.status.idle": "2024-04-16T13:17:27.268254Z",
     "shell.execute_reply": "2024-04-16T13:17:27.266806Z"
    },
    "papermill": {
     "duration": 0.037136,
     "end_time": "2024-04-16T13:17:27.270919",
     "exception": false,
     "start_time": "2024-04-16T13:17:27.233783",
     "status": "completed"
    },
    "tags": []
   },
   "outputs": [
    {
     "data": {
      "text/plain": [
       "array([3, 2, 1, 0], dtype=int64)"
      ]
     },
     "execution_count": 32,
     "metadata": {},
     "output_type": "execute_result"
    }
   ],
   "source": [
    "df['thal'].unique()"
   ]
  },
  {
   "cell_type": "code",
   "execution_count": 33,
   "id": "c48ef782",
   "metadata": {
    "execution": {
     "iopub.execute_input": "2024-04-16T13:17:27.328092Z",
     "iopub.status.busy": "2024-04-16T13:17:27.327682Z",
     "iopub.status.idle": "2024-04-16T13:17:27.714136Z",
     "shell.execute_reply": "2024-04-16T13:17:27.713073Z"
    },
    "papermill": {
     "duration": 0.418113,
     "end_time": "2024-04-16T13:17:27.716546",
     "exception": false,
     "start_time": "2024-04-16T13:17:27.298433",
     "status": "completed"
    },
    "tags": []
   },
   "outputs": [
    {
     "data": {
      "image/png": "[encoded data removed]",
      "text/plain": [
       "<Figure size 800x600 with 1 Axes>"
      ]
     },
     "metadata": {},
     "output_type": "display_data"
    }
   ],
   "source": [
    "sns.set_style('whitegrid')\n",
    "\n",
    "plt.figure(figsize=(8,6))\n",
    "sns.barplot(x='thal', y='target', hue='thal', data=df, palette='pastel')\n",
    "plt.title('Relation b/w Thal and Target')\n",
    "plt.show()"
   ]
  },
  {
   "cell_type": "code",
   "execution_count": 37,
   "id": "f28664a7",
   "metadata": {
    "execution": {
     "iopub.execute_input": "2024-04-16T13:17:27.767802Z",
     "iopub.status.busy": "2024-04-16T13:17:27.767412Z",
     "iopub.status.idle": "2024-04-16T13:17:28.250011Z",
     "shell.execute_reply": "2024-04-16T13:17:28.248389Z"
    },
    "papermill": {
     "duration": 0.512392,
     "end_time": "2024-04-16T13:17:28.253237",
     "exception": false,
     "start_time": "2024-04-16T13:17:27.740845",
     "status": "completed"
    },
    "tags": []
   },
   "outputs": [
    {
     "data": {
      "image/png": "[encoded data removed]",
      "text/plain": [
       "<Figure size 640x480 with 1 Axes>"
      ]
     },
     "metadata": {},
     "output_type": "display_data"
    }
   ],
   "source": [
    "sns.histplot(x=df['thal'], kde=True);"
   ]
  },
  {
   "cell_type": "markdown",
   "id": "4a0501ad",
   "metadata": {
    "papermill": {
     "duration": 0.027707,
     "end_time": "2024-04-16T13:17:28.310015",
     "exception": false,
     "start_time": "2024-04-16T13:17:28.282308",
     "status": "completed"
    },
    "tags": []
   },
   "source": [
    "### 5. Data Modeling"
   ]
  },
  {
   "cell_type": "markdown",
   "id": "fdfc1636",
   "metadata": {
    "papermill": {
     "duration": 0.026821,
     "end_time": "2024-04-16T13:17:28.363921",
     "exception": false,
     "start_time": "2024-04-16T13:17:28.337100",
     "status": "completed"
    },
    "tags": []
   },
   "source": [
    "#### 5.1 Train Test Split"
   ]
  },
  {
   "cell_type": "code",
   "execution_count": 38,
   "id": "01d745c2",
   "metadata": {
    "execution": {
     "iopub.execute_input": "2024-04-16T13:17:28.416720Z",
     "iopub.status.busy": "2024-04-16T13:17:28.415719Z",
     "iopub.status.idle": "2024-04-16T13:17:28.774892Z",
     "shell.execute_reply": "2024-04-16T13:17:28.773666Z"
    },
    "papermill": {
     "duration": 0.3889,
     "end_time": "2024-04-16T13:17:28.777940",
     "exception": false,
     "start_time": "2024-04-16T13:17:28.389040",
     "status": "completed"
    },
    "tags": []
   },
   "outputs": [],
   "source": [
    "from sklearn.model_selection import train_test_split\n",
    "\n",
    "X = df.drop('target', axis=1)\n",
    "y = df['target']\n",
    "\n",
    "X_train, X_test, y_train, y_test = train_test_split(X, y, test_size=0.20, random_state=0)"
   ]
  },
  {
   "cell_type": "code",
   "execution_count": 39,
   "id": "adb35e8c",
   "metadata": {
    "execution": {
     "iopub.execute_input": "2024-04-16T13:17:28.832914Z",
     "iopub.status.busy": "2024-04-16T13:17:28.831596Z",
     "iopub.status.idle": "2024-04-16T13:17:28.838428Z",
     "shell.execute_reply": "2024-04-16T13:17:28.837166Z"
    },
    "papermill": {
     "duration": 0.036883,
     "end_time": "2024-04-16T13:17:28.841460",
     "exception": false,
     "start_time": "2024-04-16T13:17:28.804577",
     "status": "completed"
    },
    "tags": []
   },
   "outputs": [
    {
     "name": "stdout",
     "output_type": "stream",
     "text": [
      "X Train Shape: (820, 13)\n",
      "X Test Shape: (205, 13)\n",
      "Y Train Shape: (820,)\n",
      "Y Test Shape: (205,)\n"
     ]
    }
   ],
   "source": [
    "print(f\"X Train Shape: {X_train.shape}\")\n",
    "print(f\"X Test Shape: {X_test.shape}\")\n",
    "print(f\"Y Train Shape: {y_train.shape}\")\n",
    "print(f\"Y Test Shape: {y_test.shape}\")"
   ]
  },
  {
   "cell_type": "markdown",
   "id": "bc452c04",
   "metadata": {
    "papermill": {
     "duration": 0.025621,
     "end_time": "2024-04-16T13:17:28.894532",
     "exception": false,
     "start_time": "2024-04-16T13:17:28.868911",
     "status": "completed"
    },
    "tags": []
   },
   "source": [
    "#### 5.2 Logistic Regression"
   ]
  },
  {
   "cell_type": "code",
   "execution_count": 40,
   "id": "d0a6c81e",
   "metadata": {
    "execution": {
     "iopub.execute_input": "2024-04-16T13:17:28.945652Z",
     "iopub.status.busy": "2024-04-16T13:17:28.944987Z",
     "iopub.status.idle": "2024-04-16T13:17:28.950995Z",
     "shell.execute_reply": "2024-04-16T13:17:28.949630Z"
    },
    "papermill": {
     "duration": 0.034387,
     "end_time": "2024-04-16T13:17:28.953120",
     "exception": false,
     "start_time": "2024-04-16T13:17:28.918733",
     "status": "completed"
    },
    "tags": []
   },
   "outputs": [],
   "source": [
    "from sklearn.metrics import accuracy_score"
   ]
  },
  {
   "cell_type": "code",
   "execution_count": 41,
   "id": "88504059",
   "metadata": {
    "execution": {
     "iopub.execute_input": "2024-04-16T13:17:29.003368Z",
     "iopub.status.busy": "2024-04-16T13:17:29.002603Z",
     "iopub.status.idle": "2024-04-16T13:17:29.422659Z",
     "shell.execute_reply": "2024-04-16T13:17:29.421175Z"
    },
    "papermill": {
     "duration": 0.44907,
     "end_time": "2024-04-16T13:17:29.426083",
     "exception": false,
     "start_time": "2024-04-16T13:17:28.977013",
     "status": "completed"
    },
    "tags": []
   },
   "outputs": [
    {
     "name": "stderr",
     "output_type": "stream",
     "text": [
      "c:\\Users\\CWW\\anaconda3\\Lib\\site-packages\\sklearn\\linear_model\\_logistic.py:469: ConvergenceWarning: lbfgs failed to converge (status=1):\n",
      "STOP: TOTAL NO. of ITERATIONS REACHED LIMIT.\n",
      "\n",
      "Increase the number of iterations (max_iter) or scale the data as shown in:\n",
      "    https://scikit-learn.org/stable/modules/preprocessing.html\n",
      "Please also refer to the documentation for alternative solver options:\n",
      "    https://scikit-learn.org/stable/modules/linear_model.html#logistic-regression\n",
      "  n_iter_i = _check_optimize_result(\n"
     ]
    }
   ],
   "source": [
    "from sklearn.linear_model import LogisticRegression\n",
    "\n",
    "lr = LogisticRegression(max_iter=1000)\n",
    "lr.fit(X_train, y_train)\n",
    "y_pred_lr = lr.predict(X_test)"
   ]
  },
  {
   "cell_type": "code",
   "execution_count": 42,
   "id": "b1a0f24d",
   "metadata": {
    "execution": {
     "iopub.execute_input": "2024-04-16T13:17:29.512217Z",
     "iopub.status.busy": "2024-04-16T13:17:29.510529Z",
     "iopub.status.idle": "2024-04-16T13:17:29.527428Z",
     "shell.execute_reply": "2024-04-16T13:17:29.526029Z"
    },
    "papermill": {
     "duration": 0.062834,
     "end_time": "2024-04-16T13:17:29.531422",
     "exception": false,
     "start_time": "2024-04-16T13:17:29.468588",
     "status": "completed"
    },
    "tags": []
   },
   "outputs": [
    {
     "data": {
      "text/plain": [
       "(205,)"
      ]
     },
     "execution_count": 42,
     "metadata": {},
     "output_type": "execute_result"
    }
   ],
   "source": [
    "y_pred_lr.shape"
   ]
  },
  {
   "cell_type": "code",
   "execution_count": 43,
   "id": "5c59f04b",
   "metadata": {
    "execution": {
     "iopub.execute_input": "2024-04-16T13:17:29.591390Z",
     "iopub.status.busy": "2024-04-16T13:17:29.589708Z",
     "iopub.status.idle": "2024-04-16T13:17:29.599258Z",
     "shell.execute_reply": "2024-04-16T13:17:29.598040Z"
    },
    "papermill": {
     "duration": 0.042121,
     "end_time": "2024-04-16T13:17:29.602363",
     "exception": false,
     "start_time": "2024-04-16T13:17:29.560242",
     "status": "completed"
    },
    "tags": []
   },
   "outputs": [
    {
     "name": "stdout",
     "output_type": "stream",
     "text": [
      "The accuracy score achieved using Logistic Regression is: 86.34 %\n"
     ]
    }
   ],
   "source": [
    "score_lr = round(accuracy_score(y_pred_lr, y_test)*100,2)\n",
    "print(f\"The accuracy score achieved using Logistic Regression is: {str(score_lr)} %\")"
   ]
  },
  {
   "cell_type": "markdown",
   "id": "59e6a3e5",
   "metadata": {
    "papermill": {
     "duration": 0.026093,
     "end_time": "2024-04-16T13:17:29.654100",
     "exception": false,
     "start_time": "2024-04-16T13:17:29.628007",
     "status": "completed"
    },
    "tags": []
   },
   "source": [
    "#### 5.3 Naive Bayes"
   ]
  },
  {
   "cell_type": "code",
   "execution_count": 44,
   "id": "ab123aa2",
   "metadata": {
    "execution": {
     "iopub.execute_input": "2024-04-16T13:17:29.705971Z",
     "iopub.status.busy": "2024-04-16T13:17:29.704736Z",
     "iopub.status.idle": "2024-04-16T13:17:29.718192Z",
     "shell.execute_reply": "2024-04-16T13:17:29.717068Z"
    },
    "papermill": {
     "duration": 0.042349,
     "end_time": "2024-04-16T13:17:29.721265",
     "exception": false,
     "start_time": "2024-04-16T13:17:29.678916",
     "status": "completed"
    },
    "tags": []
   },
   "outputs": [],
   "source": [
    "from sklearn.naive_bayes import GaussianNB\n",
    "\n",
    "nb = GaussianNB()\n",
    "nb.fit(X_train, y_train)\n",
    "y_pred_nb = nb.predict(X_test)"
   ]
  },
  {
   "cell_type": "code",
   "execution_count": 45,
   "id": "7e38f542",
   "metadata": {
    "execution": {
     "iopub.execute_input": "2024-04-16T13:17:29.779582Z",
     "iopub.status.busy": "2024-04-16T13:17:29.779144Z",
     "iopub.status.idle": "2024-04-16T13:17:29.785264Z",
     "shell.execute_reply": "2024-04-16T13:17:29.784179Z"
    },
    "papermill": {
     "duration": 0.038977,
     "end_time": "2024-04-16T13:17:29.787675",
     "exception": false,
     "start_time": "2024-04-16T13:17:29.748698",
     "status": "completed"
    },
    "tags": []
   },
   "outputs": [
    {
     "data": {
      "text/plain": [
       "(205,)"
      ]
     },
     "execution_count": 45,
     "metadata": {},
     "output_type": "execute_result"
    }
   ],
   "source": [
    "y_pred_nb.shape"
   ]
  },
  {
   "cell_type": "code",
   "execution_count": 46,
   "id": "d531f5ce",
   "metadata": {
    "execution": {
     "iopub.execute_input": "2024-04-16T13:17:29.842158Z",
     "iopub.status.busy": "2024-04-16T13:17:29.841539Z",
     "iopub.status.idle": "2024-04-16T13:17:29.849544Z",
     "shell.execute_reply": "2024-04-16T13:17:29.848369Z"
    },
    "papermill": {
     "duration": 0.038248,
     "end_time": "2024-04-16T13:17:29.852627",
     "exception": false,
     "start_time": "2024-04-16T13:17:29.814379",
     "status": "completed"
    },
    "tags": []
   },
   "outputs": [
    {
     "name": "stdout",
     "output_type": "stream",
     "text": [
      "The accuracy score achieved using Naive Bayes is: 85.37 %\n"
     ]
    }
   ],
   "source": [
    "score_nb = round(accuracy_score(y_pred_nb, y_test)*100,2)\n",
    "print(f\"The accuracy score achieved using Naive Bayes is: {str(score_nb)} %\")"
   ]
  },
  {
   "cell_type": "markdown",
   "id": "b6674f87",
   "metadata": {
    "papermill": {
     "duration": 0.025059,
     "end_time": "2024-04-16T13:17:29.903248",
     "exception": false,
     "start_time": "2024-04-16T13:17:29.878189",
     "status": "completed"
    },
    "tags": []
   },
   "source": [
    "#### 5.4 SVM"
   ]
  },
  {
   "cell_type": "code",
   "execution_count": 47,
   "id": "7fe42d54",
   "metadata": {
    "execution": {
     "iopub.execute_input": "2024-04-16T13:17:29.954167Z",
     "iopub.status.busy": "2024-04-16T13:17:29.953454Z",
     "iopub.status.idle": "2024-04-16T13:17:32.148191Z",
     "shell.execute_reply": "2024-04-16T13:17:32.146957Z"
    },
    "papermill": {
     "duration": 2.223418,
     "end_time": "2024-04-16T13:17:32.151029",
     "exception": false,
     "start_time": "2024-04-16T13:17:29.927611",
     "status": "completed"
    },
    "tags": []
   },
   "outputs": [],
   "source": [
    "from sklearn import svm\n",
    "\n",
    "sv = svm.SVC(kernel='linear')\n",
    "sv.fit(X_train, y_train)\n",
    "y_pred_svm = sv.predict(X_test)"
   ]
  },
  {
   "cell_type": "code",
   "execution_count": 48,
   "id": "f6c32db6",
   "metadata": {
    "execution": {
     "iopub.execute_input": "2024-04-16T13:17:32.202590Z",
     "iopub.status.busy": "2024-04-16T13:17:32.202183Z",
     "iopub.status.idle": "2024-04-16T13:17:32.208774Z",
     "shell.execute_reply": "2024-04-16T13:17:32.207467Z"
    },
    "papermill": {
     "duration": 0.035565,
     "end_time": "2024-04-16T13:17:32.211066",
     "exception": false,
     "start_time": "2024-04-16T13:17:32.175501",
     "status": "completed"
    },
    "tags": []
   },
   "outputs": [
    {
     "data": {
      "text/plain": [
       "(205,)"
      ]
     },
     "execution_count": 48,
     "metadata": {},
     "output_type": "execute_result"
    }
   ],
   "source": [
    "y_pred_svm.shape"
   ]
  },
  {
   "cell_type": "code",
   "execution_count": 49,
   "id": "4c70f6c2",
   "metadata": {
    "execution": {
     "iopub.execute_input": "2024-04-16T13:17:32.263371Z",
     "iopub.status.busy": "2024-04-16T13:17:32.262885Z",
     "iopub.status.idle": "2024-04-16T13:17:32.271494Z",
     "shell.execute_reply": "2024-04-16T13:17:32.270404Z"
    },
    "papermill": {
     "duration": 0.038162,
     "end_time": "2024-04-16T13:17:32.273894",
     "exception": false,
     "start_time": "2024-04-16T13:17:32.235732",
     "status": "completed"
    },
    "tags": []
   },
   "outputs": [
    {
     "name": "stdout",
     "output_type": "stream",
     "text": [
      "The accuracy score achieved using Linear SVM is: 83.9 %\n"
     ]
    }
   ],
   "source": [
    "score_svm = round(accuracy_score(y_pred_svm, y_test)*100,2)\n",
    "print(f\"The accuracy score achieved using Linear SVM is: {str(score_svm)} %\")"
   ]
  },
  {
   "cell_type": "markdown",
   "id": "da9dfaf0",
   "metadata": {
    "papermill": {
     "duration": 0.024319,
     "end_time": "2024-04-16T13:17:32.322912",
     "exception": false,
     "start_time": "2024-04-16T13:17:32.298593",
     "status": "completed"
    },
    "tags": []
   },
   "source": [
    "#### 5.5 K Nearest Neighbors"
   ]
  },
  {
   "cell_type": "code",
   "execution_count": 50,
   "id": "1c8f16d5",
   "metadata": {
    "execution": {
     "iopub.execute_input": "2024-04-16T13:17:32.375024Z",
     "iopub.status.busy": "2024-04-16T13:17:32.374541Z",
     "iopub.status.idle": "2024-04-16T13:17:32.469673Z",
     "shell.execute_reply": "2024-04-16T13:17:32.468320Z"
    },
    "papermill": {
     "duration": 0.124276,
     "end_time": "2024-04-16T13:17:32.472706",
     "exception": false,
     "start_time": "2024-04-16T13:17:32.348430",
     "status": "completed"
    },
    "tags": []
   },
   "outputs": [],
   "source": [
    "from sklearn.neighbors import KNeighborsClassifier\n",
    "\n",
    "knn = KNeighborsClassifier(n_neighbors=7)\n",
    "knn.fit(X_train, y_train)\n",
    "y_pred_knn = knn.predict(X_test)"
   ]
  },
  {
   "cell_type": "code",
   "execution_count": 51,
   "id": "6e965e24",
   "metadata": {
    "execution": {
     "iopub.execute_input": "2024-04-16T13:17:32.528727Z",
     "iopub.status.busy": "2024-04-16T13:17:32.528349Z",
     "iopub.status.idle": "2024-04-16T13:17:32.536244Z",
     "shell.execute_reply": "2024-04-16T13:17:32.534988Z"
    },
    "papermill": {
     "duration": 0.039673,
     "end_time": "2024-04-16T13:17:32.539052",
     "exception": false,
     "start_time": "2024-04-16T13:17:32.499379",
     "status": "completed"
    },
    "tags": []
   },
   "outputs": [
    {
     "data": {
      "text/plain": [
       "(205,)"
      ]
     },
     "execution_count": 51,
     "metadata": {},
     "output_type": "execute_result"
    }
   ],
   "source": [
    "y_pred_knn.shape"
   ]
  },
  {
   "cell_type": "code",
   "execution_count": 52,
   "id": "cdaef35d",
   "metadata": {
    "execution": {
     "iopub.execute_input": "2024-04-16T13:17:32.596981Z",
     "iopub.status.busy": "2024-04-16T13:17:32.596590Z",
     "iopub.status.idle": "2024-04-16T13:17:32.604085Z",
     "shell.execute_reply": "2024-04-16T13:17:32.602724Z"
    },
    "papermill": {
     "duration": 0.039818,
     "end_time": "2024-04-16T13:17:32.606735",
     "exception": false,
     "start_time": "2024-04-16T13:17:32.566917",
     "status": "completed"
    },
    "tags": []
   },
   "outputs": [
    {
     "name": "stdout",
     "output_type": "stream",
     "text": [
      "The accuracy score achieved using KNN is: 72.2 %\n"
     ]
    }
   ],
   "source": [
    "score_knn = round(accuracy_score(y_pred_knn, y_test)*100,2)\n",
    "print(f\"The accuracy score achieved using KNN is: {str(score_knn)} %\")"
   ]
  },
  {
   "cell_type": "markdown",
   "id": "c36ae7b2",
   "metadata": {
    "papermill": {
     "duration": 0.025869,
     "end_time": "2024-04-16T13:17:32.658753",
     "exception": false,
     "start_time": "2024-04-16T13:17:32.632884",
     "status": "completed"
    },
    "tags": []
   },
   "source": [
    "#### 5.6 Decision Tree"
   ]
  },
  {
   "cell_type": "code",
   "execution_count": 53,
   "id": "ebfec77d",
   "metadata": {
    "execution": {
     "iopub.execute_input": "2024-04-16T13:17:32.715134Z",
     "iopub.status.busy": "2024-04-16T13:17:32.714349Z",
     "iopub.status.idle": "2024-04-16T13:17:34.102073Z",
     "shell.execute_reply": "2024-04-16T13:17:34.100549Z"
    },
    "papermill": {
     "duration": 1.420302,
     "end_time": "2024-04-16T13:17:34.105027",
     "exception": false,
     "start_time": "2024-04-16T13:17:32.684725",
     "status": "completed"
    },
    "tags": []
   },
   "outputs": [],
   "source": [
    "from sklearn.tree import DecisionTreeClassifier\n",
    "\n",
    "max_accuracy = 0\n",
    "\n",
    "\n",
    "for x in range(200):\n",
    "    dt = DecisionTreeClassifier(random_state=x)\n",
    "    dt.fit(X_train,y_train)\n",
    "    y_pred_dt = dt.predict(X_test)\n",
    "    current_accuracy = round(accuracy_score(y_pred_dt,y_test)*100,2)\n",
    "    if(current_accuracy>max_accuracy):\n",
    "        max_accuracy = current_accuracy\n",
    "        best_x = x\n",
    "        \n",
    "\n",
    "dt = DecisionTreeClassifier(random_state=best_x)\n",
    "dt.fit(X_train,y_train)\n",
    "y_pred_dt = dt.predict(X_test)"
   ]
  },
  {
   "cell_type": "code",
   "execution_count": 54,
   "id": "e3e19816",
   "metadata": {
    "execution": {
     "iopub.execute_input": "2024-04-16T13:17:34.157687Z",
     "iopub.status.busy": "2024-04-16T13:17:34.157314Z",
     "iopub.status.idle": "2024-04-16T13:17:34.164120Z",
     "shell.execute_reply": "2024-04-16T13:17:34.163098Z"
    },
    "papermill": {
     "duration": 0.035652,
     "end_time": "2024-04-16T13:17:34.166301",
     "exception": false,
     "start_time": "2024-04-16T13:17:34.130649",
     "status": "completed"
    },
    "tags": []
   },
   "outputs": [
    {
     "data": {
      "text/plain": [
       "(205,)"
      ]
     },
     "execution_count": 54,
     "metadata": {},
     "output_type": "execute_result"
    }
   ],
   "source": [
    "y_pred_dt.shape"
   ]
  },
  {
   "cell_type": "code",
   "execution_count": 55,
   "id": "ced14ff1",
   "metadata": {
    "execution": {
     "iopub.execute_input": "2024-04-16T13:17:34.221497Z",
     "iopub.status.busy": "2024-04-16T13:17:34.220649Z",
     "iopub.status.idle": "2024-04-16T13:17:34.228108Z",
     "shell.execute_reply": "2024-04-16T13:17:34.226559Z"
    },
    "papermill": {
     "duration": 0.037738,
     "end_time": "2024-04-16T13:17:34.230370",
     "exception": false,
     "start_time": "2024-04-16T13:17:34.192632",
     "status": "completed"
    },
    "tags": []
   },
   "outputs": [
    {
     "name": "stdout",
     "output_type": "stream",
     "text": [
      "The accuracy score achieved using Decision Tree is: 100.0 %\n"
     ]
    }
   ],
   "source": [
    "score_dt = round(accuracy_score(y_pred_dt, y_test)*100,2)\n",
    "print(f\"The accuracy score achieved using Decision Tree is: {str(score_dt)} %\")"
   ]
  },
  {
   "cell_type": "markdown",
   "id": "f4f41d4a",
   "metadata": {
    "papermill": {
     "duration": 0.02432,
     "end_time": "2024-04-16T13:17:34.279992",
     "exception": false,
     "start_time": "2024-04-16T13:17:34.255672",
     "status": "completed"
    },
    "tags": []
   },
   "source": [
    "#### 5.7 Random Forest"
   ]
  },
  {
   "cell_type": "code",
   "execution_count": 56,
   "id": "dbcd194e",
   "metadata": {
    "execution": {
     "iopub.execute_input": "2024-04-16T13:17:34.332946Z",
     "iopub.status.busy": "2024-04-16T13:17:34.331436Z",
     "iopub.status.idle": "2024-04-16T13:25:12.266259Z",
     "shell.execute_reply": "2024-04-16T13:25:12.264581Z"
    },
    "papermill": {
     "duration": 457.964328,
     "end_time": "2024-04-16T13:25:12.269505",
     "exception": false,
     "start_time": "2024-04-16T13:17:34.305177",
     "status": "completed"
    },
    "tags": []
   },
   "outputs": [],
   "source": [
    "from sklearn.ensemble import RandomForestClassifier\n",
    "\n",
    "max_accuracy = 0\n",
    "\n",
    "\n",
    "for x in range(2000):\n",
    "    rf = RandomForestClassifier(random_state=x)\n",
    "    rf.fit(X_train,y_train)\n",
    "    y_pred_rf = rf.predict(X_test)\n",
    "    current_accuracy = round(accuracy_score(y_pred_rf,y_test)*100,2)\n",
    "    if(current_accuracy>max_accuracy):\n",
    "        max_accuracy = current_accuracy\n",
    "        best_x = x\n",
    "        \n",
    "rf = RandomForestClassifier(random_state=best_x)\n",
    "rf.fit(X_train,y_train)\n",
    "y_pred_rf = rf.predict(X_test)"
   ]
  },
  {
   "cell_type": "code",
   "execution_count": 57,
   "id": "c216a1a9",
   "metadata": {
    "execution": {
     "iopub.execute_input": "2024-04-16T13:25:12.323702Z",
     "iopub.status.busy": "2024-04-16T13:25:12.322550Z",
     "iopub.status.idle": "2024-04-16T13:25:12.331250Z",
     "shell.execute_reply": "2024-04-16T13:25:12.329875Z"
    },
    "papermill": {
     "duration": 0.038497,
     "end_time": "2024-04-16T13:25:12.333613",
     "exception": false,
     "start_time": "2024-04-16T13:25:12.295116",
     "status": "completed"
    },
    "tags": []
   },
   "outputs": [
    {
     "data": {
      "text/plain": [
       "(205,)"
      ]
     },
     "execution_count": 57,
     "metadata": {},
     "output_type": "execute_result"
    }
   ],
   "source": [
    "y_pred_rf.shape"
   ]
  },
  {
   "cell_type": "code",
   "execution_count": 58,
   "id": "014f30e3",
   "metadata": {
    "execution": {
     "iopub.execute_input": "2024-04-16T13:25:12.391628Z",
     "iopub.status.busy": "2024-04-16T13:25:12.390709Z",
     "iopub.status.idle": "2024-04-16T13:25:12.402135Z",
     "shell.execute_reply": "2024-04-16T13:25:12.400344Z"
    },
    "papermill": {
     "duration": 0.044847,
     "end_time": "2024-04-16T13:25:12.405122",
     "exception": false,
     "start_time": "2024-04-16T13:25:12.360275",
     "status": "completed"
    },
    "tags": []
   },
   "outputs": [
    {
     "name": "stdout",
     "output_type": "stream",
     "text": [
      "The accuracy score achieved using Decision Tree is: 100.0 %\n"
     ]
    }
   ],
   "source": [
    "score_rf = round(accuracy_score(y_pred_rf, y_test)*100,2)\n",
    "print(f\"The accuracy score achieved using Decision Tree is: {str(score_rf)} %\")"
   ]
  },
  {
   "cell_type": "markdown",
   "id": "2ecf3d37",
   "metadata": {
    "papermill": {
     "duration": 0.025727,
     "end_time": "2024-04-16T13:25:12.456694",
     "exception": false,
     "start_time": "2024-04-16T13:25:12.430967",
     "status": "completed"
    },
    "tags": []
   },
   "source": [
    "#### 5.8 XGBoost"
   ]
  },
  {
   "cell_type": "code",
   "execution_count": 59,
   "id": "d3f5b561",
   "metadata": {
    "execution": {
     "iopub.execute_input": "2024-04-16T13:25:12.511937Z",
     "iopub.status.busy": "2024-04-16T13:25:12.511560Z",
     "iopub.status.idle": "2024-04-16T13:25:12.893225Z",
     "shell.execute_reply": "2024-04-16T13:25:12.892112Z"
    },
    "papermill": {
     "duration": 0.41363,
     "end_time": "2024-04-16T13:25:12.896526",
     "exception": false,
     "start_time": "2024-04-16T13:25:12.482896",
     "status": "completed"
    },
    "tags": []
   },
   "outputs": [],
   "source": [
    "import xgboost as xgb\n",
    "\n",
    "xgb_model = xgb.XGBClassifier(objective='binary:logistic', random_state=42)\n",
    "xgb_model.fit(X_train, y_train)\n",
    "\n",
    "y_pred_xgb = xgb_model.predict(X_test)"
   ]
  },
  {
   "cell_type": "code",
   "execution_count": 60,
   "id": "58153df0",
   "metadata": {
    "execution": {
     "iopub.execute_input": "2024-04-16T13:25:12.951902Z",
     "iopub.status.busy": "2024-04-16T13:25:12.951310Z",
     "iopub.status.idle": "2024-04-16T13:25:12.959623Z",
     "shell.execute_reply": "2024-04-16T13:25:12.958370Z"
    },
    "papermill": {
     "duration": 0.038712,
     "end_time": "2024-04-16T13:25:12.962174",
     "exception": false,
     "start_time": "2024-04-16T13:25:12.923462",
     "status": "completed"
    },
    "tags": []
   },
   "outputs": [
    {
     "data": {
      "text/plain": [
       "(205,)"
      ]
     },
     "execution_count": 60,
     "metadata": {},
     "output_type": "execute_result"
    }
   ],
   "source": [
    "y_pred_xgb.shape"
   ]
  },
  {
   "cell_type": "code",
   "execution_count": 61,
   "id": "39a63493",
   "metadata": {
    "execution": {
     "iopub.execute_input": "2024-04-16T13:25:13.022601Z",
     "iopub.status.busy": "2024-04-16T13:25:13.021122Z",
     "iopub.status.idle": "2024-04-16T13:25:13.028648Z",
     "shell.execute_reply": "2024-04-16T13:25:13.027732Z"
    },
    "papermill": {
     "duration": 0.040395,
     "end_time": "2024-04-16T13:25:13.031141",
     "exception": false,
     "start_time": "2024-04-16T13:25:12.990746",
     "status": "completed"
    },
    "tags": []
   },
   "outputs": [
    {
     "name": "stdout",
     "output_type": "stream",
     "text": [
      "The accuracy score achieved using XGBoost is: 100.0 %\n"
     ]
    }
   ],
   "source": [
    "score_xgb = round(accuracy_score(y_pred_xgb, y_test)*100,2)\n",
    "print(f'The accuracy score achieved using XGBoost is: {str(score_xgb)} %')"
   ]
  },
  {
   "cell_type": "code",
   "execution_count": 62,
   "id": "568e1dd0",
   "metadata": {
    "execution": {
     "iopub.execute_input": "2024-04-16T13:25:13.090256Z",
     "iopub.status.busy": "2024-04-16T13:25:13.089005Z",
     "iopub.status.idle": "2024-04-16T13:25:13.097727Z",
     "shell.execute_reply": "2024-04-16T13:25:13.096150Z"
    },
    "papermill": {
     "duration": 0.041213,
     "end_time": "2024-04-16T13:25:13.101017",
     "exception": false,
     "start_time": "2024-04-16T13:25:13.059804",
     "status": "completed"
    },
    "tags": []
   },
   "outputs": [
    {
     "name": "stdout",
     "output_type": "stream",
     "text": [
      "The accuracy of score achieved using Logistic Regression is 86.34 %\n",
      "The accuracy of score achieved using Naive Bayes is 85.37 %\n",
      "The accuracy of score achieved using Support Vector Machine is 83.9 %\n",
      "The accuracy of score achieved using K-Nearest Neighbors is 72.2 %\n",
      "The accuracy of score achieved using Decision Tree is 100.0 %\n",
      "The accuracy of score achieved using Random Forest is 100.0 %\n",
      "The accuracy of score achieved using XGBoost is 100.0 %\n"
     ]
    }
   ],
   "source": [
    "scores = [score_lr, score_nb, score_svm, score_knn, score_dt, score_rf, score_xgb]\n",
    "algorithm = ['Logistic Regression', 'Naive Bayes', 'Support Vector Machine', 'K-Nearest Neighbors', 'Decision Tree', 'Random Forest', 'XGBoost']\n",
    "\n",
    "for i in range(len(algorithm)):\n",
    "    print(f\"The accuracy of score achieved using {algorithm[i]} is {str(scores[i])} %\")"
   ]
  },
  {
   "cell_type": "code",
   "execution_count": 64,
   "id": "25c2d716",
   "metadata": {
    "execution": {
     "iopub.execute_input": "2024-04-16T13:25:13.155129Z",
     "iopub.status.busy": "2024-04-16T13:25:13.154672Z",
     "iopub.status.idle": "2024-04-16T13:25:13.568229Z",
     "shell.execute_reply": "2024-04-16T13:25:13.566494Z"
    },
    "papermill": {
     "duration": 0.443417,
     "end_time": "2024-04-16T13:25:13.570994",
     "exception": false,
     "start_time": "2024-04-16T13:25:13.127577",
     "status": "completed"
    },
    "tags": []
   },
   "outputs": [
    {
     "data": {
      "image/png": "[encoded data removed]",
      "text/plain": [
       "<Figure size 1500x800 with 1 Axes>"
      ]
     },
     "metadata": {},
     "output_type": "display_data"
    }
   ],
   "source": [
    "sns.set(rc={'figure.figsize':(15,8)})\n",
    "plt.xlabel(\"Algorithm\")\n",
    "plt.ylabel(\"Accuracy Score\")\n",
    "\n",
    "sns.barplot(x=algorithm, y=scores, hue=algorithm, palette='pastel');"
   ]
  },
  {
   "cell_type": "markdown",
   "id": "f0da7679",
   "metadata": {
    "papermill": {
     "duration": 0.027017,
     "end_time": "2024-04-16T13:25:13.625494",
     "exception": false,
     "start_time": "2024-04-16T13:25:13.598477",
     "status": "completed"
    },
    "tags": []
   },
   "source": [
    "### Predicted the Outcome"
   ]
  },
  {
   "cell_type": "code",
   "execution_count": 65,
   "id": "a7a57c42",
   "metadata": {
    "execution": {
     "iopub.execute_input": "2024-04-16T13:25:13.680489Z",
     "iopub.status.busy": "2024-04-16T13:25:13.679729Z",
     "iopub.status.idle": "2024-04-16T13:25:13.696458Z",
     "shell.execute_reply": "2024-04-16T13:25:13.694892Z"
    },
    "papermill": {
     "duration": 0.047344,
     "end_time": "2024-04-16T13:25:13.698998",
     "exception": false,
     "start_time": "2024-04-16T13:25:13.651654",
     "status": "completed"
    },
    "tags": []
   },
   "outputs": [
    {
     "name": "stdout",
     "output_type": "stream",
     "text": [
      "Predicted outcome: [1]\n"
     ]
    }
   ],
   "source": [
    "data = {'age': [45],'sex': [1],'cp':[2],'trestbps':[110],'chol':[287],'fbs':[1],'restecg':[0],'thalach':[163],'exang':[1],'oldpeak':[2.4],'slope':[2],'ca':[1],'thal':[1]}  # Assuming you want to predict for age 45\n",
    "df_1 = pd.DataFrame(data)\n",
    "\n",
    "# Use the predict method to predict the target variable\n",
    "prediction = rf.predict(df_1)\n",
    "\n",
    "print(\"Predicted outcome:\", prediction)"
   ]
  },
  {
   "cell_type": "markdown",
   "id": "fc857c77",
   "metadata": {
    "_cell_guid": "b1076dfc-b9ad-4769-8c92-a6c4dae69d19",
    "_uuid": "8f2839f25d086af736a60e9eeb907d3b93b6e0e5",
    "papermill": {
     "duration": 0.025899,
     "end_time": "2024-04-16T13:25:13.751791",
     "exception": false,
     "start_time": "2024-04-16T13:25:13.725892",
     "status": "completed"
    },
    "tags": []
   },
   "source": [
    "fin."
   ]
  },
  {
   "cell_type": "code",
   "execution_count": 66,
   "id": "25d3ef20",
   "metadata": {},
   "outputs": [
    {
     "name": "stdout",
     "output_type": "stream",
     "text": [
      "Model Dump Successfull\n"
     ]
    }
   ],
   "source": [
    "import pickle\n",
    "\n",
    "pickle.dump(rf, open(\"model_rf.pkl\", \"wb\"))\n",
    "print(\"Model Dump Successfull\")"
   ]
  }
 ],
 "metadata": {
  "kaggle": {
   "accelerator": "none",
   "dataSources": [
    {
     "datasetId": 216167,
     "sourceId": 477177,
     "sourceType": "datasetVersion"
    }
   ],
   "dockerImageVersionId": 30684,
   "isGpuEnabled": false,
   "isInternetEnabled": true,
   "language": "python",
   "sourceType": "notebook"
  },
  "kernelspec": {
   "display_name": "Python 3",
   "language": "python",
   "name": "python3"
  },
  "language_info": {
   "codemirror_mode": {
    "name": "ipython",
    "version": 3
   },
   "file_extension": ".py",
   "mimetype": "text/x-python",
   "name": "python",
   "nbconvert_exporter": "python",
   "pygments_lexer": "ipython3",
   "version": "3.12.4"
  },
  "papermill": {
   "default_parameters": {},
   "duration": 479.308116,
   "end_time": "2024-04-16T13:25:14.603806",
   "environment_variables": {},
   "exception": null,
   "input_path": "__notebook__.ipynb",
   "output_path": "__notebook__.ipynb",
   "parameters": {},
   "start_time": "2024-04-16T13:17:15.295690",
   "version": "2.5.0"
  }
 },
 "nbformat": 4,
 "nbformat_minor": 5
}
