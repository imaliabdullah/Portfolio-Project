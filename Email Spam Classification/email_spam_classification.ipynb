{
 "cells": [
  {
   "cell_type": "markdown",
   "metadata": {},
   "source": [
    "## Task Title: Machine Learning Task\n",
    "\n",
    "### Description\n",
    "\n",
    "Project Domain / Category Data Science/Machine Learning Complete in 5 Days Abstract / Introduction Email has become a powerful tool for communication as it saves a lot of time and cost. It is one of the most popular and secure mediums for online transferring and communicating messages or data through the web. But, due to social networks, most of the emails contain unwanted information which is called spam. Identifying such spam emails is one of the important challenges. In this project, we will use the PYTHON text classification technique to identify or classify email spam messages. We will find accuracy, time, and error rate by applying suitable algorithms (such as NaiveBayes, NaiveBayesMultinomial, and J48, etc.) on Email Dataset and we will also compare which algorithm is best for text classification. *Functional Requirements: The administrator will perform all these tasks. \n",
    "\n",
    "1. Collect Data Set * Gathering the data for Email spam contains spam and non-spam messages \n",
    "2. Pre-processing * As most of the data in the real world are incomplete containing noisy and missing values. Therefore we have to apply Pre-processing to your data. \n",
    "3. Feature Selection * After the pre-processing step, we apply the feature selection algorithm, the algorithm which deploy here is the Best First Feature Selection algorithm. \n",
    "4. Apply Spam Filter Algorithms. * Handle Data: Load the dataset and split it into training and test datasets. * Summarize Data: summarize the properties in the training dataset so that we can calculate probabilities and make predictions. * Make a Prediction: Use the summaries of the dataset to generate a single prediction. * Make Predictions: Generate predictions given a test dataset and a summarized training dataset. * Evaluate Accuracy: Evaluate the accuracy of predictions made for a test dataset as the percentage correct out of all predictions made. \n",
    "5. Train & Test Data * Split data into 70% training & 30% testing data sets. 6. Confusion Matrix * Create a confusion matrix table to describe the performance of a classification model. 7. Accuracy * Find the Accuracy of all algorithms and compare."
   ]
  },
  {
   "cell_type": "markdown",
   "metadata": {},
   "source": [
    "### 1. Collecting Data Set\n",
    "\n",
    "this dataset is getting from this website: <a href='https://archive.ics.uci.edu/dataset/228/sms+spam+collection'> UC Irvine Machine Learning Repository <a> <br>"
   ]
  },
  {
   "cell_type": "markdown",
   "metadata": {},
   "source": [
    "A collection of 425 SMS spam messages was manually extracted from the Grumbletext Web site. This is a UK forum in which cell phone users make public claims about SMS spam messages, most of them without reporting the very spam message received. The identification of the text of spam messages in the claims is a very hard and time-consuming task, and it involved carefully scanning hundreds of web pages."
   ]
  },
  {
   "cell_type": "code",
   "execution_count": 5,
   "metadata": {},
   "outputs": [],
   "source": [
    "import pandas as pd\n",
    "import matplotlib.pyplot as plt\n",
    "import seaborn as sns\n",
    "\n",
    "import warnings\n",
    "warnings.filterwarnings('ignore')"
   ]
  },
  {
   "cell_type": "code",
   "execution_count": 6,
   "metadata": {},
   "outputs": [
    {
     "data": {
      "text/html": [
       "<div>\n",
       "<style scoped>\n",
       "    .dataframe tbody tr th:only-of-type {\n",
       "        vertical-align: middle;\n",
       "    }\n",
       "\n",
       "    .dataframe tbody tr th {\n",
       "        vertical-align: top;\n",
       "    }\n",
       "\n",
       "    .dataframe thead th {\n",
       "        text-align: right;\n",
       "    }\n",
       "</style>\n",
       "<table border=\"1\" class=\"dataframe\">\n",
       "  <thead>\n",
       "    <tr style=\"text-align: right;\">\n",
       "      <th></th>\n",
       "      <th>label</th>\n",
       "      <th>messages</th>\n",
       "    </tr>\n",
       "  </thead>\n",
       "  <tbody>\n",
       "    <tr>\n",
       "      <th>0</th>\n",
       "      <td>ham</td>\n",
       "      <td>Go until jurong point, crazy.. Available only ...</td>\n",
       "    </tr>\n",
       "    <tr>\n",
       "      <th>1</th>\n",
       "      <td>ham</td>\n",
       "      <td>Ok lar... Joking wif u oni...</td>\n",
       "    </tr>\n",
       "    <tr>\n",
       "      <th>2</th>\n",
       "      <td>spam</td>\n",
       "      <td>Free entry in 2 a wkly comp to win FA Cup fina...</td>\n",
       "    </tr>\n",
       "    <tr>\n",
       "      <th>3</th>\n",
       "      <td>ham</td>\n",
       "      <td>U dun say so early hor... U c already then say...</td>\n",
       "    </tr>\n",
       "    <tr>\n",
       "      <th>4</th>\n",
       "      <td>ham</td>\n",
       "      <td>Nah I don't think he goes to usf, he lives aro...</td>\n",
       "    </tr>\n",
       "  </tbody>\n",
       "</table>\n",
       "</div>"
      ],
      "text/plain": [
       "  label                                           messages\n",
       "0   ham  Go until jurong point, crazy.. Available only ...\n",
       "1   ham                      Ok lar... Joking wif u oni...\n",
       "2  spam  Free entry in 2 a wkly comp to win FA Cup fina...\n",
       "3   ham  U dun say so early hor... U c already then say...\n",
       "4   ham  Nah I don't think he goes to usf, he lives aro..."
      ]
     },
     "execution_count": 6,
     "metadata": {},
     "output_type": "execute_result"
    }
   ],
   "source": [
    "df = pd.read_csv('SMSSpamCollection', sep='\\t', names=['label', 'messages'])\n",
    "df.head()"
   ]
  },
  {
   "cell_type": "markdown",
   "metadata": {},
   "source": [
    "So here it is our dataset, First of all we do some data pre-processing where we deal with the NaN values and then convert label category into binary because it shows ham for not spam and spam for spamming. "
   ]
  },
  {
   "cell_type": "markdown",
   "metadata": {},
   "source": [
    "### 2. Pre-Processing"
   ]
  },
  {
   "cell_type": "code",
   "execution_count": 7,
   "metadata": {},
   "outputs": [
    {
     "data": {
      "text/plain": [
       "label       0\n",
       "messages    0\n",
       "dtype: int64"
      ]
     },
     "execution_count": 7,
     "metadata": {},
     "output_type": "execute_result"
    }
   ],
   "source": [
    "df.isna().sum()"
   ]
  },
  {
   "cell_type": "markdown",
   "metadata": {},
   "source": [
    "So this dataset is cleaned there is no NaN value occur in whole dataset."
   ]
  },
  {
   "cell_type": "code",
   "execution_count": 8,
   "metadata": {},
   "outputs": [],
   "source": [
    "# convert label into binary\n",
    "df['label'] = df.label.map({'ham':0, 'spam':1})"
   ]
  },
  {
   "cell_type": "code",
   "execution_count": 9,
   "metadata": {},
   "outputs": [
    {
     "data": {
      "image/png": "[encoded data removed]",
      "text/plain": [
       "<Figure size 640x480 with 1 Axes>"
      ]
     },
     "metadata": {},
     "output_type": "display_data"
    }
   ],
   "source": [
    "count_class = pd.value_counts(df.label, sort=True)\n",
    "\n",
    "labels = 'NotSpam', 'Spam'\n",
    "sizes = [count_class[0], count_class[1]]\n",
    "colors = ['green', 'red']\n",
    "explode = (0.1, 0.1)\n",
    "\n",
    "# plotting\n",
    "plt.pie(sizes, explode=explode, labels=labels, colors=colors, autopct='%1.1f%%',\n",
    "        shadow=True, startangle=90)\n",
    "plt.axis('equal')\n",
    "plt.show()"
   ]
  },
  {
   "cell_type": "markdown",
   "metadata": {},
   "source": [
    "#### train-test split"
   ]
  },
  {
   "cell_type": "code",
   "execution_count": 10,
   "metadata": {},
   "outputs": [],
   "source": [
    "from sklearn.model_selection import train_test_split as tts"
   ]
  },
  {
   "cell_type": "code",
   "execution_count": 11,
   "metadata": {},
   "outputs": [],
   "source": [
    "X_train, X_test, y_train, y_test = tts(df['messages'], df['label'], test_size=0.3, random_state=1)"
   ]
  },
  {
   "cell_type": "code",
   "execution_count": 12,
   "metadata": {},
   "outputs": [
    {
     "data": {
      "text/plain": [
       "(3900,)"
      ]
     },
     "execution_count": 12,
     "metadata": {},
     "output_type": "execute_result"
    }
   ],
   "source": [
    "X_train.shape"
   ]
  },
  {
   "cell_type": "code",
   "execution_count": 13,
   "metadata": {},
   "outputs": [
    {
     "data": {
      "text/plain": [
       "(3900,)"
      ]
     },
     "execution_count": 13,
     "metadata": {},
     "output_type": "execute_result"
    }
   ],
   "source": [
    "y_train.shape"
   ]
  },
  {
   "cell_type": "markdown",
   "metadata": {},
   "source": [
    "### 3. Feature Selection"
   ]
  },
  {
   "cell_type": "code",
   "execution_count": 14,
   "metadata": {},
   "outputs": [],
   "source": [
    "from sklearn.feature_extraction.text import CountVectorizer"
   ]
  },
  {
   "cell_type": "code",
   "execution_count": 15,
   "metadata": {},
   "outputs": [],
   "source": [
    "cv = CountVectorizer()\n",
    "X_train = cv.fit_transform(X_train)\n",
    "X_test = cv.transform(X_test)"
   ]
  },
  {
   "cell_type": "markdown",
   "metadata": {},
   "source": [
    "### 4. Model Training"
   ]
  },
  {
   "cell_type": "markdown",
   "metadata": {},
   "source": [
    "#### 4.1 Naive Bayes"
   ]
  },
  {
   "cell_type": "code",
   "execution_count": 16,
   "metadata": {},
   "outputs": [],
   "source": [
    "import scikitplot as skplt\n",
    "from sklearn.naive_bayes import GaussianNB, MultinomialNB\n",
    "from sklearn.metrics import accuracy_score, confusion_matrix, precision_score, recall_score"
   ]
  },
  {
   "cell_type": "code",
   "execution_count": 17,
   "metadata": {},
   "outputs": [
    {
     "name": "stdout",
     "output_type": "stream",
     "text": [
      "----------------------------------------------------------------------------------------------------\n",
      "The accuracy of our Naïve Bayes multinomial model is 98.74401913875597 %\n",
      "The Precision of our Naïve Bayes multinomial model is 97.28506787330316 %\n",
      "The Recall of our Naïve Bayes multinomial model is 93.47826086956522 %\n"
     ]
    }
   ],
   "source": [
    "# 1. Gaussian Naive Bayes (for continuous features)\n",
    "# gnb = GaussianNB()\n",
    "# gnb.fit(X_train, y_train)\n",
    "# gnb_pred = gnb.predict(X_test)\n",
    "\n",
    "# 2. Multinomial Naive Bayes (for discrete features, like word counts in text classification)\n",
    "mnb = MultinomialNB()\n",
    "mnb.fit(X_train, y_train)\n",
    "mnb_pred = mnb.predict(X_test)\n",
    "\n",
    "# Evaluate accuracy\n",
    "# print(\"The accuracy of our Naïve Bayes Gaussian model is {} %\".format(accuracy_score(y_test, gnb_pred) * 100))\n",
    "# print(\"The Precision of our Naïve Bayes Gaussian model is {} %\". format(precision_score(y_test, gnb_pred)* 100))\n",
    "# print(\"The Recall of our Naïve Bayes Gaussian model is {} %\" . format(recall_score(y_test, gnb_pred)* 100))\n",
    "\n",
    "print('-'*100)\n",
    "\n",
    "print(\"The accuracy of our Naïve Bayes multinomial model is {} %\".format(accuracy_score(y_test, mnb_pred) * 100))\n",
    "print(\"The Precision of our Naïve Bayes multinomial model is {} %\". format(precision_score(y_test, mnb_pred)* 100))\n",
    "print(\"The Recall of our Naïve Bayes multinomial model is {} %\" . format(recall_score(y_test, mnb_pred)* 100))"
   ]
  },
  {
   "cell_type": "markdown",
   "metadata": {},
   "source": [
    "**Confusion Matrix**"
   ]
  },
  {
   "cell_type": "code",
   "execution_count": 18,
   "metadata": {},
   "outputs": [
    {
     "name": "stdout",
     "output_type": "stream",
     "text": [
      "The accuracy of Naive Bayes Classifier is 98.74401913875597%\n",
      "\n",
      " [[1436    6]\n",
      " [  15  215]]\n"
     ]
    },
    {
     "data": {
      "image/png": "[encoded data removed]",
      "text/plain": [
       "<Figure size 640x480 with 2 Axes>"
      ]
     },
     "metadata": {},
     "output_type": "display_data"
    }
   ],
   "source": [
    "confusionmatrix = confusion_matrix(y_test, mnb_pred)\n",
    "print(\"The accuracy of Naive Bayes Classifier is {}%\".format(accuracy_score(y_test, mnb_pred)*100))\n",
    "print('\\n', confusionmatrix)\n",
    "skplt.metrics.plot_confusion_matrix(y_test, mnb_pred, normalize=True)\n",
    "plt.show()"
   ]
  },
  {
   "cell_type": "markdown",
   "metadata": {},
   "source": [
    "#### 4.2 J48 (C4.5 Decision Tree)"
   ]
  },
  {
   "cell_type": "code",
   "execution_count": 19,
   "metadata": {},
   "outputs": [],
   "source": [
    "from sklearn.tree import DecisionTreeClassifier"
   ]
  },
  {
   "cell_type": "code",
   "execution_count": 20,
   "metadata": {},
   "outputs": [
    {
     "name": "stdout",
     "output_type": "stream",
     "text": [
      "----------------------------------------------------------------------------------------------------\n",
      "The accuracy of our Naïve Bayes multinomial model is 96.83014354066985 %\n",
      "The Precision of our Naïve Bayes multinomial model is 90.04524886877829 %\n",
      "The Recall of our Naïve Bayes multinomial model is 86.52173913043478 %\n"
     ]
    }
   ],
   "source": [
    "# Initialize Decision Tree Classifier\n",
    "clf = DecisionTreeClassifier()\n",
    "\n",
    "# Train Decision Tree Classifier\n",
    "clf.fit(X_train, y_train)\n",
    "\n",
    "# Predict on test data\n",
    "clf_pred = clf.predict(X_test)\n",
    "\n",
    "\n",
    "print('-'*100)\n",
    "\n",
    "print(\"The accuracy of our Naïve Bayes multinomial model is {} %\".format(accuracy_score(y_test, clf_pred) * 100))\n",
    "print(\"The Precision of our Naïve Bayes multinomial model is {} %\". format(precision_score(y_test, clf_pred)* 100))\n",
    "print(\"The Recall of our Naïve Bayes multinomial model is {} %\" . format(recall_score(y_test, clf_pred)* 100))"
   ]
  },
  {
   "cell_type": "markdown",
   "metadata": {},
   "source": [
    "**Confusion Matrix**"
   ]
  },
  {
   "cell_type": "code",
   "execution_count": 21,
   "metadata": {},
   "outputs": [
    {
     "name": "stdout",
     "output_type": "stream",
     "text": [
      "The accuracy of Naive Bayes Classifier is 96.83014354066985%\n",
      "\n",
      " [[1420   22]\n",
      " [  31  199]]\n"
     ]
    },
    {
     "data": {
      "image/png": "[encoded data removed]",
      "text/plain": [
       "<Figure size 640x480 with 2 Axes>"
      ]
     },
     "metadata": {},
     "output_type": "display_data"
    }
   ],
   "source": [
    "confusionmatrix = confusion_matrix(y_test, clf_pred)\n",
    "print(\"The accuracy of Naive Bayes Classifier is {}%\".format(accuracy_score(y_test, clf_pred)*100))\n",
    "print('\\n', confusionmatrix)\n",
    "skplt.metrics.plot_confusion_matrix(y_test, clf_pred, normalize=True)\n",
    "plt.show()"
   ]
  },
  {
   "cell_type": "code",
   "execution_count": 22,
   "metadata": {},
   "outputs": [
    {
     "name": "stdout",
     "output_type": "stream",
     "text": [
      "Model Dump Successfull\n"
     ]
    }
   ],
   "source": [
    "import pickle\n",
    "\n",
    "pickle.dump(mnb, open(\"email_spam.pkl\", \"wb\"))\n",
    "print(\"Model Dump Successfull\")"
   ]
  },
  {
   "cell_type": "code",
   "execution_count": 23,
   "metadata": {},
   "outputs": [
    {
     "name": "stdout",
     "output_type": "stream",
     "text": [
      "Model Dump Successfull\n"
     ]
    }
   ],
   "source": [
    "import pickle\n",
    "\n",
    "pickle.dump(cv, open(\"cv.pkl\", \"wb\"))\n",
    "print(\"Model Dump Successfull\")"
   ]
  },
  {
   "cell_type": "markdown",
   "metadata": {},
   "source": [
    "### Let's Check the Model"
   ]
  },
  {
   "cell_type": "markdown",
   "metadata": {},
   "source": [
    "If the output is 0, it means that the input message is not spam, and if it is 1, it means that message has been spam."
   ]
  },
  {
   "cell_type": "code",
   "execution_count": 25,
   "metadata": {},
   "outputs": [],
   "source": [
    "new_test_sample_ham = [\"Hi, I'm Ali Abdullah and I am glad to share the program that I've written with everyone.\"]"
   ]
  },
  {
   "cell_type": "code",
   "execution_count": 26,
   "metadata": {},
   "outputs": [],
   "source": [
    "new_test_sample_spam= [\"Congratulations, you've won a free Sony camera.\"]"
   ]
  },
  {
   "cell_type": "code",
   "execution_count": 27,
   "metadata": {},
   "outputs": [],
   "source": [
    "new_test_sample_ham_vectorized = cv.transform(new_test_sample_ham)"
   ]
  },
  {
   "cell_type": "code",
   "execution_count": 28,
   "metadata": {},
   "outputs": [],
   "source": [
    "new_test_sample_spam_vectorized = cv.transform(new_test_sample_spam)"
   ]
  },
  {
   "cell_type": "code",
   "execution_count": 29,
   "metadata": {},
   "outputs": [
    {
     "data": {
      "text/plain": [
       "array([0], dtype=int64)"
      ]
     },
     "execution_count": 29,
     "metadata": {},
     "output_type": "execute_result"
    }
   ],
   "source": [
    "sample_predict = mnb.predict(new_test_sample_ham_vectorized)\n",
    "sample_predict"
   ]
  },
  {
   "cell_type": "code",
   "execution_count": 30,
   "metadata": {},
   "outputs": [
    {
     "data": {
      "text/plain": [
       "array([1], dtype=int64)"
      ]
     },
     "execution_count": 30,
     "metadata": {},
     "output_type": "execute_result"
    }
   ],
   "source": [
    "sample_predict = mnb.predict(new_test_sample_spam_vectorized)\n",
    "sample_predict"
   ]
  },
  {
   "cell_type": "markdown",
   "metadata": {},
   "source": [
    "### fin."
   ]
  }
 ],
 "metadata": {
  "kernelspec": {
   "display_name": "base",
   "language": "python",
   "name": "python3"
  },
  "language_info": {
   "codemirror_mode": {
    "name": "ipython",
    "version": 3
   },
   "file_extension": ".py",
   "mimetype": "text/x-python",
   "name": "python",
   "nbconvert_exporter": "python",
   "pygments_lexer": "ipython3",
   "version": "3.11.7"
  }
 },
 "nbformat": 4,
 "nbformat_minor": 2
}
